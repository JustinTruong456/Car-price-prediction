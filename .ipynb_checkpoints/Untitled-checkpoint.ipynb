{
 "cells": [
  {
   "cell_type": "markdown",
   "id": "f206c083-c682-419f-b51e-cb94db6eaf4b",
   "metadata": {},
   "source": [
    "# First: Data Cleaning and Exploratory"
   ]
  },
  {
   "cell_type": "markdown",
   "id": "5936fb0f-7fc1-4109-923a-c3ea055e3e38",
   "metadata": {},
   "source": [
    "### Explore data"
   ]
  },
  {
   "cell_type": "code",
   "execution_count": 1,
   "id": "f57b7d12-41db-4204-99d3-c3699f633262",
   "metadata": {},
   "outputs": [
    {
     "name": "stdout",
     "output_type": "stream",
     "text": [
      "<class 'pandas.core.frame.DataFrame'>\n",
      "RangeIndex: 19237 entries, 0 to 19236\n",
      "Data columns (total 18 columns):\n",
      " #   Column            Non-Null Count  Dtype  \n",
      "---  ------            --------------  -----  \n",
      " 0   ID                19237 non-null  int64  \n",
      " 1   Price             19237 non-null  int64  \n",
      " 2   Levy              19237 non-null  object \n",
      " 3   Manufacturer      19237 non-null  object \n",
      " 4   Model             19237 non-null  object \n",
      " 5   Prod. year        19237 non-null  int64  \n",
      " 6   Category          19237 non-null  object \n",
      " 7   Leather interior  19237 non-null  object \n",
      " 8   Fuel type         19237 non-null  object \n",
      " 9   Engine volume     19237 non-null  object \n",
      " 10  Mileage           19237 non-null  object \n",
      " 11  Cylinders         19237 non-null  float64\n",
      " 12  Gear box type     19237 non-null  object \n",
      " 13  Drive wheels      19237 non-null  object \n",
      " 14  Doors             19237 non-null  object \n",
      " 15  Wheel             19237 non-null  object \n",
      " 16  Color             19237 non-null  object \n",
      " 17  Airbags           19237 non-null  int64  \n",
      "dtypes: float64(1), int64(4), object(13)\n",
      "memory usage: 2.6+ MB\n"
     ]
    },
    {
     "data": {
      "text/html": [
       "<div>\n",
       "<style scoped>\n",
       "    .dataframe tbody tr th:only-of-type {\n",
       "        vertical-align: middle;\n",
       "    }\n",
       "\n",
       "    .dataframe tbody tr th {\n",
       "        vertical-align: top;\n",
       "    }\n",
       "\n",
       "    .dataframe thead th {\n",
       "        text-align: right;\n",
       "    }\n",
       "</style>\n",
       "<table border=\"1\" class=\"dataframe\">\n",
       "  <thead>\n",
       "    <tr style=\"text-align: right;\">\n",
       "      <th></th>\n",
       "      <th>ID</th>\n",
       "      <th>Price</th>\n",
       "      <th>Prod. year</th>\n",
       "      <th>Cylinders</th>\n",
       "      <th>Airbags</th>\n",
       "    </tr>\n",
       "  </thead>\n",
       "  <tbody>\n",
       "    <tr>\n",
       "      <th>count</th>\n",
       "      <td>1.923700e+04</td>\n",
       "      <td>1.923700e+04</td>\n",
       "      <td>19237.000000</td>\n",
       "      <td>19237.000000</td>\n",
       "      <td>19237.000000</td>\n",
       "    </tr>\n",
       "    <tr>\n",
       "      <th>mean</th>\n",
       "      <td>4.557654e+07</td>\n",
       "      <td>1.855593e+04</td>\n",
       "      <td>2010.912824</td>\n",
       "      <td>4.582991</td>\n",
       "      <td>6.582627</td>\n",
       "    </tr>\n",
       "    <tr>\n",
       "      <th>std</th>\n",
       "      <td>9.365914e+05</td>\n",
       "      <td>1.905813e+05</td>\n",
       "      <td>5.668673</td>\n",
       "      <td>1.199933</td>\n",
       "      <td>4.320168</td>\n",
       "    </tr>\n",
       "    <tr>\n",
       "      <th>min</th>\n",
       "      <td>2.074688e+07</td>\n",
       "      <td>1.000000e+00</td>\n",
       "      <td>1939.000000</td>\n",
       "      <td>1.000000</td>\n",
       "      <td>0.000000</td>\n",
       "    </tr>\n",
       "    <tr>\n",
       "      <th>25%</th>\n",
       "      <td>4.569837e+07</td>\n",
       "      <td>5.331000e+03</td>\n",
       "      <td>2009.000000</td>\n",
       "      <td>4.000000</td>\n",
       "      <td>4.000000</td>\n",
       "    </tr>\n",
       "    <tr>\n",
       "      <th>50%</th>\n",
       "      <td>4.577231e+07</td>\n",
       "      <td>1.317200e+04</td>\n",
       "      <td>2012.000000</td>\n",
       "      <td>4.000000</td>\n",
       "      <td>6.000000</td>\n",
       "    </tr>\n",
       "    <tr>\n",
       "      <th>75%</th>\n",
       "      <td>4.580204e+07</td>\n",
       "      <td>2.207500e+04</td>\n",
       "      <td>2015.000000</td>\n",
       "      <td>4.000000</td>\n",
       "      <td>12.000000</td>\n",
       "    </tr>\n",
       "    <tr>\n",
       "      <th>max</th>\n",
       "      <td>4.581665e+07</td>\n",
       "      <td>2.630750e+07</td>\n",
       "      <td>2020.000000</td>\n",
       "      <td>16.000000</td>\n",
       "      <td>16.000000</td>\n",
       "    </tr>\n",
       "  </tbody>\n",
       "</table>\n",
       "</div>"
      ],
      "text/plain": [
       "                 ID         Price    Prod. year     Cylinders       Airbags\n",
       "count  1.923700e+04  1.923700e+04  19237.000000  19237.000000  19237.000000\n",
       "mean   4.557654e+07  1.855593e+04   2010.912824      4.582991      6.582627\n",
       "std    9.365914e+05  1.905813e+05      5.668673      1.199933      4.320168\n",
       "min    2.074688e+07  1.000000e+00   1939.000000      1.000000      0.000000\n",
       "25%    4.569837e+07  5.331000e+03   2009.000000      4.000000      4.000000\n",
       "50%    4.577231e+07  1.317200e+04   2012.000000      4.000000      6.000000\n",
       "75%    4.580204e+07  2.207500e+04   2015.000000      4.000000     12.000000\n",
       "max    4.581665e+07  2.630750e+07   2020.000000     16.000000     16.000000"
      ]
     },
     "execution_count": 1,
     "metadata": {},
     "output_type": "execute_result"
    }
   ],
   "source": [
    "import pandas as pd\n",
    "import numpy as np\n",
    "import seaborn as sns\n",
    "import matplotlib.pyplot as plt\n",
    "df = pd.read_csv('car_price_prediction.csv')\n",
    "\n",
    "### categorical \n",
    "df.info()\n",
    "\n",
    "### numerical\n",
    "df.describe()"
   ]
  },
  {
   "cell_type": "markdown",
   "id": "d339ffd8-fa5f-4668-a46b-7cc16f59ea43",
   "metadata": {},
   "source": [
    "## Check for missing value"
   ]
  },
  {
   "cell_type": "code",
   "execution_count": 2,
   "id": "bff807c0-4570-4da9-9d03-32c18cc2285e",
   "metadata": {},
   "outputs": [
    {
     "name": "stdout",
     "output_type": "stream",
     "text": [
      "(19237, 18)\n",
      "ID                  0\n",
      "Price               0\n",
      "Levy                0\n",
      "Manufacturer        0\n",
      "Model               0\n",
      "Prod. year          0\n",
      "Category            0\n",
      "Leather interior    0\n",
      "Fuel type           0\n",
      "Engine volume       0\n",
      "Mileage             0\n",
      "Cylinders           0\n",
      "Gear box type       0\n",
      "Drive wheels        0\n",
      "Doors               0\n",
      "Wheel               0\n",
      "Color               0\n",
      "Airbags             0\n",
      "dtype: int64\n"
     ]
    }
   ],
   "source": [
    "# your code\n",
    "print(df.shape)\n",
    "\n",
    "print(df.isnull().sum())"
   ]
  },
  {
   "cell_type": "markdown",
   "id": "31a34b7a-9192-4493-b2c9-30512eac6543",
   "metadata": {},
   "source": [
    "## Clean the data"
   ]
  },
  {
   "cell_type": "markdown",
   "id": "d9e69edc-1ced-4026-ab72-ea27cf375fb0",
   "metadata": {},
   "source": [
    "### Remove ID column"
   ]
  },
  {
   "cell_type": "code",
   "execution_count": 3,
   "id": "7019188e-e326-48a8-a182-5add73bf2819",
   "metadata": {},
   "outputs": [
    {
     "data": {
      "text/html": [
       "<div>\n",
       "<style scoped>\n",
       "    .dataframe tbody tr th:only-of-type {\n",
       "        vertical-align: middle;\n",
       "    }\n",
       "\n",
       "    .dataframe tbody tr th {\n",
       "        vertical-align: top;\n",
       "    }\n",
       "\n",
       "    .dataframe thead th {\n",
       "        text-align: right;\n",
       "    }\n",
       "</style>\n",
       "<table border=\"1\" class=\"dataframe\">\n",
       "  <thead>\n",
       "    <tr style=\"text-align: right;\">\n",
       "      <th></th>\n",
       "      <th>Price</th>\n",
       "      <th>Levy</th>\n",
       "      <th>Manufacturer</th>\n",
       "      <th>Model</th>\n",
       "      <th>Prod. year</th>\n",
       "      <th>Category</th>\n",
       "      <th>Leather interior</th>\n",
       "      <th>Fuel type</th>\n",
       "      <th>Engine volume</th>\n",
       "      <th>Mileage</th>\n",
       "      <th>Cylinders</th>\n",
       "      <th>Gear box type</th>\n",
       "      <th>Drive wheels</th>\n",
       "      <th>Doors</th>\n",
       "      <th>Wheel</th>\n",
       "      <th>Color</th>\n",
       "      <th>Airbags</th>\n",
       "    </tr>\n",
       "  </thead>\n",
       "  <tbody>\n",
       "    <tr>\n",
       "      <th>0</th>\n",
       "      <td>13328</td>\n",
       "      <td>1399</td>\n",
       "      <td>LEXUS</td>\n",
       "      <td>RX 450</td>\n",
       "      <td>2010</td>\n",
       "      <td>Jeep</td>\n",
       "      <td>Yes</td>\n",
       "      <td>Hybrid</td>\n",
       "      <td>3.5</td>\n",
       "      <td>186005 km</td>\n",
       "      <td>6.0</td>\n",
       "      <td>Automatic</td>\n",
       "      <td>4x4</td>\n",
       "      <td>04-May</td>\n",
       "      <td>Left wheel</td>\n",
       "      <td>Silver</td>\n",
       "      <td>12</td>\n",
       "    </tr>\n",
       "    <tr>\n",
       "      <th>1</th>\n",
       "      <td>16621</td>\n",
       "      <td>1018</td>\n",
       "      <td>CHEVROLET</td>\n",
       "      <td>Equinox</td>\n",
       "      <td>2011</td>\n",
       "      <td>Jeep</td>\n",
       "      <td>No</td>\n",
       "      <td>Petrol</td>\n",
       "      <td>3</td>\n",
       "      <td>192000 km</td>\n",
       "      <td>6.0</td>\n",
       "      <td>Tiptronic</td>\n",
       "      <td>4x4</td>\n",
       "      <td>04-May</td>\n",
       "      <td>Left wheel</td>\n",
       "      <td>Black</td>\n",
       "      <td>8</td>\n",
       "    </tr>\n",
       "    <tr>\n",
       "      <th>2</th>\n",
       "      <td>8467</td>\n",
       "      <td>-</td>\n",
       "      <td>HONDA</td>\n",
       "      <td>FIT</td>\n",
       "      <td>2006</td>\n",
       "      <td>Hatchback</td>\n",
       "      <td>No</td>\n",
       "      <td>Petrol</td>\n",
       "      <td>1.3</td>\n",
       "      <td>200000 km</td>\n",
       "      <td>4.0</td>\n",
       "      <td>Variator</td>\n",
       "      <td>Front</td>\n",
       "      <td>04-May</td>\n",
       "      <td>Right-hand drive</td>\n",
       "      <td>Black</td>\n",
       "      <td>2</td>\n",
       "    </tr>\n",
       "    <tr>\n",
       "      <th>3</th>\n",
       "      <td>3607</td>\n",
       "      <td>862</td>\n",
       "      <td>FORD</td>\n",
       "      <td>Escape</td>\n",
       "      <td>2011</td>\n",
       "      <td>Jeep</td>\n",
       "      <td>Yes</td>\n",
       "      <td>Hybrid</td>\n",
       "      <td>2.5</td>\n",
       "      <td>168966 km</td>\n",
       "      <td>4.0</td>\n",
       "      <td>Automatic</td>\n",
       "      <td>4x4</td>\n",
       "      <td>04-May</td>\n",
       "      <td>Left wheel</td>\n",
       "      <td>White</td>\n",
       "      <td>0</td>\n",
       "    </tr>\n",
       "    <tr>\n",
       "      <th>4</th>\n",
       "      <td>11726</td>\n",
       "      <td>446</td>\n",
       "      <td>HONDA</td>\n",
       "      <td>FIT</td>\n",
       "      <td>2014</td>\n",
       "      <td>Hatchback</td>\n",
       "      <td>Yes</td>\n",
       "      <td>Petrol</td>\n",
       "      <td>1.3</td>\n",
       "      <td>91901 km</td>\n",
       "      <td>4.0</td>\n",
       "      <td>Automatic</td>\n",
       "      <td>Front</td>\n",
       "      <td>04-May</td>\n",
       "      <td>Left wheel</td>\n",
       "      <td>Silver</td>\n",
       "      <td>4</td>\n",
       "    </tr>\n",
       "  </tbody>\n",
       "</table>\n",
       "</div>"
      ],
      "text/plain": [
       "   Price  Levy Manufacturer    Model  Prod. year   Category Leather interior  \\\n",
       "0  13328  1399        LEXUS   RX 450        2010       Jeep              Yes   \n",
       "1  16621  1018    CHEVROLET  Equinox        2011       Jeep               No   \n",
       "2   8467     -        HONDA      FIT        2006  Hatchback               No   \n",
       "3   3607   862         FORD   Escape        2011       Jeep              Yes   \n",
       "4  11726   446        HONDA      FIT        2014  Hatchback              Yes   \n",
       "\n",
       "  Fuel type Engine volume    Mileage  Cylinders Gear box type Drive wheels  \\\n",
       "0    Hybrid           3.5  186005 km        6.0     Automatic          4x4   \n",
       "1    Petrol             3  192000 km        6.0     Tiptronic          4x4   \n",
       "2    Petrol           1.3  200000 km        4.0      Variator        Front   \n",
       "3    Hybrid           2.5  168966 km        4.0     Automatic          4x4   \n",
       "4    Petrol           1.3   91901 km        4.0     Automatic        Front   \n",
       "\n",
       "    Doors             Wheel   Color  Airbags  \n",
       "0  04-May        Left wheel  Silver       12  \n",
       "1  04-May        Left wheel   Black        8  \n",
       "2  04-May  Right-hand drive   Black        2  \n",
       "3  04-May        Left wheel   White        0  \n",
       "4  04-May        Left wheel  Silver        4  "
      ]
     },
     "execution_count": 3,
     "metadata": {},
     "output_type": "execute_result"
    }
   ],
   "source": [
    "df = df.drop('ID', axis=1)\n",
    "df.head(5)"
   ]
  },
  {
   "cell_type": "code",
   "execution_count": 4,
   "id": "3e6df464-401d-43f6-acbd-6b8f06389257",
   "metadata": {},
   "outputs": [
    {
     "name": "stdout",
     "output_type": "stream",
     "text": [
      "<class 'pandas.core.frame.DataFrame'>\n",
      "RangeIndex: 19237 entries, 0 to 19236\n",
      "Data columns (total 17 columns):\n",
      " #   Column            Non-Null Count  Dtype  \n",
      "---  ------            --------------  -----  \n",
      " 0   Price             19237 non-null  int64  \n",
      " 1   Levy              19237 non-null  object \n",
      " 2   Manufacturer      19237 non-null  object \n",
      " 3   Model             19237 non-null  object \n",
      " 4   Prod. year        19237 non-null  int64  \n",
      " 5   Category          19237 non-null  object \n",
      " 6   Leather interior  19237 non-null  object \n",
      " 7   Fuel type         19237 non-null  object \n",
      " 8   Engine volume     19237 non-null  object \n",
      " 9   Mileage           19237 non-null  object \n",
      " 10  Cylinders         19237 non-null  float64\n",
      " 11  Gear box type     19237 non-null  object \n",
      " 12  Drive wheels      19237 non-null  object \n",
      " 13  Doors             19237 non-null  object \n",
      " 14  Wheel             19237 non-null  object \n",
      " 15  Color             19237 non-null  object \n",
      " 16  Airbags           19237 non-null  int64  \n",
      "dtypes: float64(1), int64(3), object(13)\n",
      "memory usage: 2.5+ MB\n"
     ]
    }
   ],
   "source": [
    "df.info()"
   ]
  },
  {
   "cell_type": "markdown",
   "id": "1deda393-720a-43bb-880a-92a6430fb574",
   "metadata": {},
   "source": [
    "## Need to change all features into int or floats"
   ]
  },
  {
   "cell_type": "markdown",
   "id": "360874e6-e1aa-4888-b9cc-cb529d1f0a89",
   "metadata": {},
   "source": [
    "### Cleaning Levy and changing it to a float or int"
   ]
  },
  {
   "cell_type": "code",
   "execution_count": 5,
   "id": "64f2f305-b9f3-41a5-abbf-b9b86b3748ff",
   "metadata": {},
   "outputs": [
    {
     "name": "stdout",
     "output_type": "stream",
     "text": [
      "Unique value for Levy\n",
      " ['1399' '1018' '-' '862' '446' '891' '761' '751' '394' '1053' '1055'\n",
      " '1079' '810' '2386' '1850' '531' '586' '1249' '2455' '583' '1537' '1288'\n",
      " '915' '1750' '707' '1077' '1486' '1091' '650' '382' '1436' '1194' '503'\n",
      " '1017' '1104' '639' '629' '919' '781' '530' '640' '765' '777' '779' '934'\n",
      " '769' '645' '1185' '1324' '830' '1187' '1111' '760' '642' '1604' '1095'\n",
      " '966' '473' '1138' '1811' '988' '917' '1156' '687' '11714' '836' '1347'\n",
      " '2866' '1646' '259' '609' '697' '585' '475' '690' '308' '1823' '1361'\n",
      " '1273' '924' '584' '2078' '831' '1172' '893' '1872' '1885' '1266' '447'\n",
      " '2148' '1730' '730' '289' '502' '333' '1325' '247' '879' '1342' '1327'\n",
      " '1598' '1514' '1058' '738' '1935' '481' '1522' '1282' '456' '880' '900'\n",
      " '798' '1277' '442' '1051' '790' '1292' '1047' '528' '1211' '1493' '1793'\n",
      " '574' '930' '1998' '271' '706' '1481' '1677' '1661' '1286' '1408' '1090'\n",
      " '595' '1451' '1267' '993' '1714' '878' '641' '749' '1511' '603' '353'\n",
      " '877' '1236' '1141' '397' '784' '1024' '1357' '1301' '770' '922' '1438'\n",
      " '753' '607' '1363' '638' '490' '431' '565' '517' '833' '489' '1760' '986'\n",
      " '1841' '1620' '1360' '474' '1099' '978' '1624' '1946' '1268' '1307' '696'\n",
      " '649' '666' '2151' '551' '800' '971' '1323' '2377' '1845' '1083' '694'\n",
      " '463' '419' '345' '1515' '1505' '2056' '1203' '729' '460' '1356' '876'\n",
      " '911' '1190' '780' '448' '2410' '1848' '1148' '834' '1275' '1028' '1197'\n",
      " '724' '890' '1705' '505' '789' '2959' '518' '461' '1719' '2858' '3156'\n",
      " '2225' '2177' '1968' '1888' '1308' '2736' '1103' '557' '2195' '843'\n",
      " '1664' '723' '4508' '562' '501' '2018' '1076' '1202' '3301' '691' '1440'\n",
      " '1869' '1178' '418' '1820' '1413' '488' '1304' '363' '2108' '521' '1659'\n",
      " '87' '1411' '1528' '3292' '7058' '1578' '627' '874' '1996' '1488' '5679'\n",
      " '1234' '5603' '400' '889' '3268' '875' '949' '2265' '441' '742' '425'\n",
      " '2476' '2971' '614' '1816' '1375' '1405' '2297' '1062' '1113' '420'\n",
      " '2469' '658' '1951' '2670' '2578' '1995' '1032' '994' '1011' '2421'\n",
      " '1296' '155' '494' '426' '1086' '961' '2236' '1829' '764' '1834' '1054'\n",
      " '617' '1529' '2266' '637' '626' '1832' '1016' '2002' '1756' '746' '1285'\n",
      " '2690' '1118' '5332' '980' '1807' '970' '1228' '1195' '1132' '1768'\n",
      " '1384' '1080' '7063' '1817' '1452' '1975' '1368' '702' '1974' '1781'\n",
      " '1036' '944' '663' '364' '1539' '1345' '1680' '2209' '741' '1575' '695'\n",
      " '1317' '294' '1525' '424' '997' '1473' '1552' '2819' '2188' '1668' '3057'\n",
      " '799' '1502' '2606' '552' '1694' '1759' '1110' '399' '1470' '1174' '5877'\n",
      " '1474' '1688' '526' '686' '5908' '1107' '2070' '1468' '1246' '1685' '556'\n",
      " '1533' '1917' '1346' '732' '692' '579' '421' '362' '3505' '1855' '2711'\n",
      " '1586' '3739' '681' '1708' '2278' '1701' '722' '1482' '928' '827' '832'\n",
      " '527' '604' '173' '1341' '3329' '1553' '859' '167' '916' '828' '2082'\n",
      " '1176' '1108' '975' '3008' '1516' '2269' '1699' '2073' '1031' '1503'\n",
      " '2364' '1030' '1442' '5666' '2715' '1437' '2067' '1426' '2908' '1279'\n",
      " '866' '4283' '279' '2658' '3015' '2004' '1391' '4736' '748' '1466' '644'\n",
      " '683' '2705' '1297' '731' '1252' '2216' '3141' '3273' '1518' '1723'\n",
      " '1588' '972' '682' '1094' '668' '175' '967' '402' '3894' '1960' '1599'\n",
      " '2000' '2084' '1621' '714' '1109' '3989' '873' '1572' '1163' '1991'\n",
      " '1716' '1673' '2562' '2874' '965' '462' '605' '1948' '1736' '3518' '2054'\n",
      " '2467' '1681' '1272' '1205' '750' '2156' '2566' '115' '524' '3184' '676'\n",
      " '1678' '612' '328' '955' '1441' '1675' '3965' '2909' '623' '822' '867'\n",
      " '3025' '1993' '792' '636' '4057' '3743' '2337' '2570' '2418' '2472'\n",
      " '3910' '1662' '2123' '2628' '3208' '2080' '3699' '2913' '864' '2505'\n",
      " '870' '7536' '1924' '1671' '1064' '1836' '1866' '4741' '841' '1369'\n",
      " '5681' '3112' '1366' '2223' '1198' '1039' '3811' '3571' '1387' '1171'\n",
      " '1365' '1531' '1590' '11706' '2308' '4860' '1641' '1045' '1901']\n"
     ]
    }
   ],
   "source": [
    "print(\"Unique value for Levy\\n\", df['Levy'].unique())"
   ]
  },
  {
   "cell_type": "code",
   "execution_count": 6,
   "id": "c7de5808-b46c-4ad6-81d5-ca3f77bd8381",
   "metadata": {},
   "outputs": [
    {
     "name": "stdout",
     "output_type": "stream",
     "text": [
      "-\n"
     ]
    }
   ],
   "source": [
    "print(df.iloc[2]['Levy'])"
   ]
  },
  {
   "cell_type": "markdown",
   "id": "5e06c83d-ab4e-439a-8172-e90f02f9574a",
   "metadata": {},
   "source": [
    "### Replace \"-\" with the mean or median of Levy but first need to check its distribution "
   ]
  },
  {
   "cell_type": "code",
   "execution_count": 7,
   "id": "2c5dfaf7-48d5-4782-946a-c2b58e872877",
   "metadata": {},
   "outputs": [
    {
     "data": {
      "image/png": "[encoded data removed]",
      "text/plain": [
       "<Figure size 640x480 with 1 Axes>"
      ]
     },
     "metadata": {},
     "output_type": "display_data"
    }
   ],
   "source": [
    "df['Levy'] = pd.to_numeric(df['Levy'], errors='coerce')\n",
    "\n",
    "\n",
    "sns.boxplot(x=df['Levy'])\n",
    "plt.title(f'Boxplot for Levy')\n",
    "plt.show()"
   ]
  },
  {
   "cell_type": "markdown",
   "id": "e18062c7-12db-4dd3-89df-fc8edce7a1cc",
   "metadata": {},
   "source": [
    "### Remove the outliers"
   ]
  },
  {
   "cell_type": "code",
   "execution_count": 8,
   "id": "a678d830-612d-4f1e-b097-0394cbc062f8",
   "metadata": {},
   "outputs": [
    {
     "data": {
      "image/png": "[encoded data removed]",
      "text/plain": [
       "<Figure size 640x480 with 1 Axes>"
      ]
     },
     "metadata": {},
     "output_type": "display_data"
    }
   ],
   "source": [
    "df = df[df['Levy'] <= 6000]\n",
    "sns.boxplot(x=df['Levy'])\n",
    "plt.title(f'Boxplot for Levy')\n",
    "plt.show()"
   ]
  },
  {
   "cell_type": "code",
   "execution_count": 9,
   "id": "b5ada71a-3eea-4395-b047-d48f371bec4a",
   "metadata": {},
   "outputs": [
    {
     "name": "stderr",
     "output_type": "stream",
     "text": [
      "C:\\Users\\Justin\\anaconda3\\Lib\\site-packages\\seaborn\\_oldcore.py:1119: FutureWarning: use_inf_as_na option is deprecated and will be removed in a future version. Convert inf values to NaN before operating instead.\n",
      "  with pd.option_context('mode.use_inf_as_na', True):\n"
     ]
    },
    {
     "data": {
      "image/png": "[encoded data removed]",
      "text/plain": [
       "<Figure size 640x480 with 1 Axes>"
      ]
     },
     "metadata": {},
     "output_type": "display_data"
    }
   ],
   "source": [
    "sns.histplot(df['Levy'], bins=20)\n",
    "plt.title('Distribution of Levy Values')\n",
    "plt.xlabel('Levy')\n",
    "plt.ylabel('Frequency')\n",
    "plt.show()"
   ]
  },
  {
   "cell_type": "markdown",
   "id": "934458a5-f8ae-4b23-aa78-e2d0b09de8d7",
   "metadata": {},
   "source": [
    "### Its a long tail Distribution, so I would replace the Levy Value with the median"
   ]
  },
  {
   "cell_type": "code",
   "execution_count": 10,
   "id": "1fbc4644-a20d-4136-a1df-f3ab3c1cdd9d",
   "metadata": {},
   "outputs": [],
   "source": [
    "#  replace Null values in \"Levy\" with mean of \"Levy\" col\n",
    "df['Levy'].fillna( df['Levy'].median(), inplace=True)"
   ]
  },
  {
   "cell_type": "code",
   "execution_count": 11,
   "id": "0dbe7480-a65a-4dfd-a927-2ec683fa0cd9",
   "metadata": {},
   "outputs": [
    {
     "name": "stdout",
     "output_type": "stream",
     "text": [
      "Unique value for Levy\n",
      " [1399. 1018.  862.  446.  891.  761.  751.  394. 1053. 1055. 1079.  810.\n",
      " 2386. 1850.  531.  586. 1249. 2455.  583. 1537. 1288.  915. 1750.  707.\n",
      " 1077. 1486. 1091.  650.  382. 1436. 1194.  503. 1017. 1104.  639.  629.\n",
      "  919.  781.  530.  640.  765.  777.  779.  934.  769.  645. 1185. 1324.\n",
      "  830. 1187. 1111.  760.  642. 1604. 1095.  966.  473. 1138. 1811.  988.\n",
      "  917. 1156.  687.  836. 1347. 2866. 1646.  259.  609.  697.  585.  475.\n",
      "  690.  308. 1823. 1361. 1273.  924.  584. 2078.  831. 1172.  893. 1872.\n",
      " 1885. 1266.  447. 2148. 1730.  730.  289.  502.  333. 1325.  247.  879.\n",
      " 1342. 1327. 1598. 1514. 1058.  738. 1935.  481. 1522. 1282.  456.  880.\n",
      "  900.  798. 1277.  442. 1051.  790. 1292. 1047.  528. 1211. 1493. 1793.\n",
      "  574.  930. 1998.  271.  706. 1481. 1677. 1661. 1286. 1408. 1090.  595.\n",
      " 1451. 1267.  993. 1714.  878.  641.  749. 1511.  603.  353.  877. 1236.\n",
      " 1141.  397.  784. 1024. 1357. 1301.  770.  922. 1438.  753.  607. 1363.\n",
      "  638.  490.  431.  565.  517.  833.  489. 1760.  986. 1841. 1620. 1360.\n",
      "  474. 1099.  978. 1624. 1946. 1268. 1307.  696.  649.  666. 2151.  551.\n",
      "  800.  971. 1323. 2377. 1845. 1083.  694.  463.  419.  345. 1515. 1505.\n",
      " 2056. 1203.  729.  460. 1356.  876.  911. 1190.  780.  448. 2410. 1848.\n",
      " 1148.  834. 1275. 1028. 1197.  724.  890. 1705.  505.  789. 2959.  518.\n",
      "  461. 1719. 2858. 3156. 2225. 2177. 1968. 1888. 1308. 2736. 1103.  557.\n",
      " 2195.  843. 1664.  723. 4508.  562.  501. 2018. 1076. 1202. 3301.  691.\n",
      " 1440. 1869. 1178.  418. 1820. 1413.  488. 1304.  363. 2108.  521. 1659.\n",
      "   87. 1411. 1528. 3292. 1578.  627.  874. 1996. 1488. 5679. 1234. 5603.\n",
      "  400.  889. 3268.  875.  949. 2265.  441.  742.  425. 2476. 2971.  614.\n",
      " 1816. 1375. 1405. 2297. 1062. 1113.  420. 2469.  658. 1951. 2670. 2578.\n",
      " 1995. 1032.  994. 1011. 2421. 1296.  155.  494.  426. 1086.  961. 2236.\n",
      " 1829.  764. 1834. 1054.  617. 1529. 2266.  637.  626. 1832. 1016. 2002.\n",
      " 1756.  746. 1285. 2690. 1118. 5332.  980. 1807.  970. 1228. 1195. 1132.\n",
      " 1768. 1384. 1080. 1817. 1452. 1975. 1368.  702. 1974. 1781. 1036.  944.\n",
      "  663.  364. 1539. 1345. 1680. 2209.  741. 1575.  695. 1317.  294. 1525.\n",
      "  424.  997. 1473. 1552. 2819. 2188. 1668. 3057.  799. 1502. 2606.  552.\n",
      " 1694. 1759. 1110.  399. 1470. 1174. 5877. 1474. 1688.  526.  686. 5908.\n",
      " 1107. 2070. 1468. 1246. 1685.  556. 1533. 1917. 1346.  732.  692.  579.\n",
      "  421.  362. 3505. 1855. 2711. 1586. 3739.  681. 1708. 2278. 1701.  722.\n",
      " 1482.  928.  827.  832.  527.  604.  173. 1341. 3329. 1553.  859.  167.\n",
      "  916.  828. 2082. 1176. 1108.  975. 3008. 1516. 2269. 1699. 2073. 1031.\n",
      " 1503. 2364. 1030. 1442. 5666. 2715. 1437. 2067. 1426. 2908. 1279.  866.\n",
      " 4283.  279. 2658. 3015. 2004. 1391. 4736.  748. 1466.  644.  683. 2705.\n",
      " 1297.  731. 1252. 2216. 3141. 3273. 1518. 1723. 1588.  972.  682. 1094.\n",
      "  668.  175.  967.  402. 3894. 1960. 1599. 2000. 2084. 1621.  714. 1109.\n",
      " 3989.  873. 1572. 1163. 1991. 1716. 1673. 2562. 2874.  965.  462.  605.\n",
      " 1948. 1736. 3518. 2054. 2467. 1681. 1272. 1205.  750. 2156. 2566.  115.\n",
      "  524. 3184.  676. 1678.  612.  328.  955. 1441. 1675. 3965. 2909.  623.\n",
      "  822.  867. 3025. 1993.  792.  636. 4057. 3743. 2337. 2570. 2418. 2472.\n",
      " 3910. 1662. 2123. 2628. 3208. 2080. 3699. 2913.  864. 2505.  870. 1924.\n",
      " 1671. 1064. 1836. 1866. 4741.  841. 1369. 5681. 3112. 1366. 2223. 1198.\n",
      " 1039. 3811. 3571. 1387. 1171. 1365. 1531. 1590. 2308. 4860. 1641. 1045.\n",
      " 1901.]\n"
     ]
    }
   ],
   "source": [
    "print(\"Unique value for Levy\\n\", df['Levy'].unique())"
   ]
  },
  {
   "cell_type": "code",
   "execution_count": 12,
   "id": "0275a3f6-0364-426b-a36f-b001a7a80f65",
   "metadata": {},
   "outputs": [
    {
     "name": "stdout",
     "output_type": "stream",
     "text": [
      "<class 'pandas.core.frame.DataFrame'>\n",
      "Index: 13412 entries, 0 to 19236\n",
      "Data columns (total 17 columns):\n",
      " #   Column            Non-Null Count  Dtype  \n",
      "---  ------            --------------  -----  \n",
      " 0   Price             13412 non-null  int64  \n",
      " 1   Levy              13412 non-null  float64\n",
      " 2   Manufacturer      13412 non-null  object \n",
      " 3   Model             13412 non-null  object \n",
      " 4   Prod. year        13412 non-null  int64  \n",
      " 5   Category          13412 non-null  object \n",
      " 6   Leather interior  13412 non-null  object \n",
      " 7   Fuel type         13412 non-null  object \n",
      " 8   Engine volume     13412 non-null  object \n",
      " 9   Mileage           13412 non-null  object \n",
      " 10  Cylinders         13412 non-null  float64\n",
      " 11  Gear box type     13412 non-null  object \n",
      " 12  Drive wheels      13412 non-null  object \n",
      " 13  Doors             13412 non-null  object \n",
      " 14  Wheel             13412 non-null  object \n",
      " 15  Color             13412 non-null  object \n",
      " 16  Airbags           13412 non-null  int64  \n",
      "dtypes: float64(2), int64(3), object(12)\n",
      "memory usage: 1.8+ MB\n"
     ]
    }
   ],
   "source": [
    "df.info()"
   ]
  },
  {
   "cell_type": "markdown",
   "id": "f63e5693-5ad5-4b2e-b8ed-d09c5dcf4492",
   "metadata": {},
   "source": [
    "### Cleaning Manufacturer and changing it to a float or int"
   ]
  },
  {
   "cell_type": "code",
   "execution_count": 13,
   "id": "1b64d315-25f3-42a3-992a-85a3bb8374a7",
   "metadata": {},
   "outputs": [
    {
     "name": "stdout",
     "output_type": "stream",
     "text": [
      "Unique value for Manufacturer\n",
      " ['LEXUS' 'CHEVROLET' 'FORD' 'HONDA' 'HYUNDAI' 'TOYOTA' 'MERCEDES-BENZ'\n",
      " 'PORSCHE' 'VOLKSWAGEN' 'AUDI' 'NISSAN' 'BMW' 'SUBARU' 'DAEWOO'\n",
      " 'SSANGYONG' 'MAZDA' 'GMC' 'KIA' 'INFINITI' 'FIAT' 'OPEL' 'MITSUBISHI'\n",
      " 'ACURA' 'CITROEN' 'RENAULT' 'JEEP' 'DODGE' 'MINI' 'CHRYSLER' 'JAGUAR'\n",
      " 'DAIHATSU' 'BUICK' 'LAND ROVER' 'TESLA' 'CADILLAC' 'SUZUKI' 'LINCOLN'\n",
      " 'BENTLEY' 'MERCURY' 'VOLVO' 'VAZ' 'MASERATI' 'FERRARI' 'SKODA'\n",
      " 'LAMBORGHINI' 'PEUGEOT' 'GAZ' 'SCION' 'HUMMER']\n"
     ]
    }
   ],
   "source": [
    "print(\"Unique value for Manufacturer\\n\", df['Manufacturer'].unique())"
   ]
  },
  {
   "cell_type": "markdown",
   "id": "31855a35-3082-4cee-ad63-8d0592bc88b9",
   "metadata": {},
   "source": [
    "### Using label encoding to encode the Manufacturer"
   ]
  },
  {
   "cell_type": "code",
   "execution_count": 14,
   "id": "e0125ab0-00af-43e3-bd7d-2384742d598e",
   "metadata": {},
   "outputs": [],
   "source": [
    "from sklearn.preprocessing import LabelEncoder\n",
    "labelencoder = LabelEncoder()\n",
    "df['Manufacturer'] = labelencoder.fit_transform(df['Manufacturer'])"
   ]
  },
  {
   "cell_type": "code",
   "execution_count": 15,
   "id": "59e49857-1fee-4570-a175-0ec83b8743f4",
   "metadata": {},
   "outputs": [
    {
     "name": "stdout",
     "output_type": "stream",
     "text": [
      "<class 'pandas.core.frame.DataFrame'>\n",
      "Index: 13412 entries, 0 to 19236\n",
      "Data columns (total 17 columns):\n",
      " #   Column            Non-Null Count  Dtype  \n",
      "---  ------            --------------  -----  \n",
      " 0   Price             13412 non-null  int64  \n",
      " 1   Levy              13412 non-null  float64\n",
      " 2   Manufacturer      13412 non-null  int32  \n",
      " 3   Model             13412 non-null  object \n",
      " 4   Prod. year        13412 non-null  int64  \n",
      " 5   Category          13412 non-null  object \n",
      " 6   Leather interior  13412 non-null  object \n",
      " 7   Fuel type         13412 non-null  object \n",
      " 8   Engine volume     13412 non-null  object \n",
      " 9   Mileage           13412 non-null  object \n",
      " 10  Cylinders         13412 non-null  float64\n",
      " 11  Gear box type     13412 non-null  object \n",
      " 12  Drive wheels      13412 non-null  object \n",
      " 13  Doors             13412 non-null  object \n",
      " 14  Wheel             13412 non-null  object \n",
      " 15  Color             13412 non-null  object \n",
      " 16  Airbags           13412 non-null  int64  \n",
      "dtypes: float64(2), int32(1), int64(3), object(11)\n",
      "memory usage: 1.8+ MB\n"
     ]
    }
   ],
   "source": [
    "df.info()"
   ]
  },
  {
   "cell_type": "markdown",
   "id": "b3afcf7e-b21e-4384-a596-43098e52c416",
   "metadata": {},
   "source": [
    "### Cleaning Model and changing it to a float or int"
   ]
  },
  {
   "cell_type": "code",
   "execution_count": 16,
   "id": "5e379a88-fa5c-4eba-a17c-05b0256030cc",
   "metadata": {},
   "outputs": [
    {
     "name": "stdout",
     "output_type": "stream",
     "text": [
      "Unique value for Model\n",
      " ['RX 450' 'Equinox' 'Escape' 'FIT' 'Santa FE' 'Prius' 'Sonata' 'Camry'\n",
      " 'E 350' 'CHR' 'Elantra' 'RX 400' 'GX 470' 'Highlander' 'Vito' 'Cayenne'\n",
      " 'CHR Limited' 'H1' 'Jetta' 'Tacoma' 'Prius C' 'Civic' 'Q7' 'E 300' 'Q5'\n",
      " 'Juke' '535' 'Cruze LT' 'Fusion' 'Tucson' 'Captiva' 'ML 350' 'Yaris'\n",
      " 'Cruze' 'Orlando' 'GL 63 AMG' 'Forester' 'Lacetti' 'Genesis' '911'\n",
      " 'GX 460' 'Focus SE' 'X5' 'Explorer' 'Korando' '616' 'Maxima' 'Volt'\n",
      " 'TERRAIN' 'Hr-v EX' 'Elantra sport limited' 'Sienna' 'Aqua' 'NX 300'\n",
      " 'REXTON' 'Carnival grand' 'QX60' 'Passat' '1000' 'C 250' '325' 'A6'\n",
      " 'Transit' '500' 'A7' 'I30' 'CT 200h' 'Panamera' 'CLS 550' 'Avalanche'\n",
      " 'Avalon LIMITED' 'Cerato K3' 'CX-7' 'Corolla' 'GLA 250' 'Sharan' 'C 300'\n",
      " 'Actyon' 'Tundra' 'C 350' 'RAV 4 Le' 'Zafira' 'E 350 ამგ' 'Cr-v' 'Avalon'\n",
      " 'ML 250' 'Colt Lancer' 'Outlander' 'GLE 350' 'Malibu' 'TL' 'RX 350'\n",
      " 'Insight' 'Altima' 'I' 'GTI' 'C-MAX' 'RAV 4 s p o r t' 'Fusion Titanium'\n",
      " 'Aveo' 'X6' 'Aqua S' 'Astra' 'Optima' '328 Xdrive' '535 M PAKET' 'Vitz'\n",
      " '328' 'Element' 'C1' 'RIO' 'M6' 'Corolla IM' 'Combo' 'RAV 4' 'A4'\n",
      " 'Insight EX' 'Fiesta 1.6' 'Focus' 'Matiz' 'Scenic' 'NX 200' 'Spark'\n",
      " 'Wrangler' 'HS 250h Hybrid' 'Journey' 'Sonata SPORT' 'Elantra SE'\n",
      " 'Rogue Sport' 'Auris' 'E 270' 'ES 350' 'Camry SE' 'Impala' 'SOUL'\n",
      " '500C Lounge' 'Cruze ltz' 'Corolla 04' 'Q3' 'Frontier' 'Grandeur'\n",
      " 'Stella' 'Cooper' 'Hr-v' 'Prius 2014' 'CX-9' '200' 'Accord' 'XF' 'IS 200'\n",
      " '330' 'Fusion TITANIUM' 'Tiida' 'E 250' 'Compass' 'XV'\n",
      " 'Aqua g soft leather sele' 'Meriva' 'Rogue' 'Prius V' '114' 'ES 300'\n",
      " 'Sportage' 'Versa' 'Carnival' 'Dart GT 2.4' 'Challenger' 'TLX' 'March'\n",
      " 'Tourneo Connect' 'IS 250' '335' 'Grand Cherokee' 'S 550' '1300' 'RAM'\n",
      " 'Camaro' 'Sprinter' 'S 550 ჰიბრიდი' '435' 'Polo' 'Cherokee' 'Accent'\n",
      " 'Pathfinder' 'CLA 250' 'Countryman' 'Camry se' 'Kyron' 'Sequoia'\n",
      " 'Mazda 3 SPORT' 'Picanto' 'Minica' 'Sentra' 'GL 550' 'Mirage' 'Yukon'\n",
      " 'Jetta სპორტ' 'E 220' 'Corolla LE' '428' 'Transit Connect ბენზინი'\n",
      " 'Sorento' 'Elantra limited' 'Sprinter MAX' 'FIT SPORT' 'Fiesta' 'LS 460'\n",
      " 'Mx-5' 'A 140' 'Terios' 'Cadenza' '320' 'Cerato' 'Edge' 'Veloster'\n",
      " 'CLS 55 AMG' '320 M' 'IS 350' 'Civic EX' 'Fuga' '528' 'Cruze strocna'\n",
      " 'Viano' 'HS 250h' 'CT 200h F-sport' 'Century' 'Outback' 'Avenger'\n",
      " 'Atenza' 'Camry Se' 'Sonata hybrid' 'F-type' 'Land Rover Sport' 'Venza'\n",
      " 'RVR' 'XV LIMITED' 'Model X' 'R 350' '135' 'Corolla S' 'Traverse'\n",
      " 'Transit Connect' 'CX-5' 'Taurus' 'Allante' '540 I' '650'\n",
      " 'A4 premium plius' 'Mazda 6' 'Fred' 'Note' 'Escape Titanium' 'Estima'\n",
      " 'X 250' 'Camry SPORT' 'Acadia' 'Cruze Premier' '740' 'UP'\n",
      " 'Outlander SPORT' '500L LONG' 'Ranger' 'XJ' 'FIT HIBRID'\n",
      " 'Mazda 6 TOURING' 'ML 350 4 MATIC' 'Tiguan' 'Discovery' 'Sebring'\n",
      " 'Ramcharger' 'C 36 AMG' 'Gentra' 'BRZ' 'SX4' '1500' 'GLE 63 AMG'\n",
      " '500 Sport' 'Golf TDI' 'Camry sport' 'X3' 'CLS 550 550' 'Equinox LT'\n",
      " 'Outlander SE' 'Passat R-line' 'X5 e53' 'Camry XLE' 'Eunos 500'\n",
      " 'Pacifica' 'A5' 'Allroad' 'X-Terra' 'E 350 212' 'Forester SH'\n",
      " 'Outlander Sport' 'Cooper S Cabrio' 'S 63 AMG' 'Elysion' 'Transit 135'\n",
      " 'Caddy' '750' 'Aqua s' 'Astra H' 'NEW Beetle' 'Megane GT Line' 'X-Trail'\n",
      " 'Q5 S-line' 'RDX' 'Elantra GT' 'Cruze RS' 'MKZ hybrid' 'Sonata HYBRID'\n",
      " 'GL 450' 'Prius V ALPINA' 'RIO lx' 'Odyssey' 'Highlander sport' 'Avella'\n",
      " 'Focus TITANIUM' 'X1' 'Forte' 'TSX' 'Santa FE Ultimate' 'Sprinter 311'\n",
      " 'C 180' 'E 36 AMG' 'Swift' 'Outlander sport' 'Vito 2.2' 'F150'\n",
      " 'Sonata Hibrid' 'RIO lX' 'QX80' 'Yaris IA' 'E 300 AVANTGARDE-LTD'\n",
      " 'Escalade' 'Impreza' 'CLS 350 AMG' 'Caliber' 'MDX' 'Encore' 'Megane'\n",
      " 'Elantra gt' '550 F10' 'Focus ST' 'Camry sporti' 'Sonic' 'Vectra'\n",
      " 'Megane 19' 'E 350 AMG' 'Cruze LS' 'Camry HYBRID' 'CTS' 'Camry LE'\n",
      " 'Elantra Limited' 'GL 320 bluetec' '100' 'RC F' '320 2.0' 'Crafter' 'RS7'\n",
      " 'Passat SE' 'Sienta' 'Elantra GLS / LIMITED' 'Mazda 3' '320 320'\n",
      " 'Avalon limited' 'E 220 cdi' 'GL 350' 'Tucson TURBO' '535 comfort-sport'\n",
      " '500 46 ml' '500 Lounge' 'Ioniq' 'Crosstrek' 'Cruze sonic' 'Nubira'\n",
      " 'Axela' 'X5 3.0' 'Scirocco' 'A3' 'Mulsanne' 'SRX' 'Renegade' 'Cruze L T'\n",
      " 'Aqua G klas' 'Kizashi' 'Cougar' 'Fusion SE' '328 sulev' 'Sorento SX'\n",
      " 'M5' 'Corolla Im' 'Kangoo' 'Highlander 2.4 lit' 'Sprinter Maxi-ს Max'\n",
      " 'Camry Hybrid' '550' 'B-MAX' 'Malibu LT' 'X5 restilling'\n",
      " 'RX 400 RESTAILING' 'CX-5 Touring' 'ML 350 BLUETEC' 'Transit Custom'\n",
      " 'CLK 430' 'S60' 'Jetta TDI' 'Vento' 'Escape Hybrid' 'Sonata Hybrid' '520'\n",
      " 'Kicks' 'ATS' '4Runner' 'Expedition' 'Shuttle' 'Yaris iA' 'Aqua G'\n",
      " 'Patriot' '300' '2121 (Niva)' 'Transit Connect Prastoi' 'Camry sport se'\n",
      " 'GLE 400 A M G' 'E 550' 'Golf' 'Passat Se' 'Camry XV50' 'A 170' 'GL 320'\n",
      " 'LX 570' 'Prius ჰიბრიდი' 'Escape SE' 'macan' 'Niro' 'C 400' '535 Diesel'\n",
      " 'RAV 4 SPORT' 'CR-Z' 'Malibu eco' 'EcoSport SE' 'FIT Premiym' 'Pilot'\n",
      " 'Murano' 'HHR' 'C8' 'Serena' 'Suburban' 'A3 4X4' '100 NX'\n",
      " 'Focus Titanium' 'RAV 4 XLE' 'GLK 300' 'Mustang' '1500,1600 Schtufenheck'\n",
      " 'Smart' 'C 250 luxury' 'Passat sport' 'GLC 300 GLC coupe' 'RX 300' '500L'\n",
      " 'Ghibli' 'Passo' 'C-MAX C-MAX' 'X1 4X4' 'MKZ' 'G 550' 'GLK 350' '456'\n",
      " 'Corsa' 'Focus se' 'i3' '535 I' 'Range Rover' 'Kicks SR' 'Caliber sxt'\n",
      " 'E-pace' 'C-MAX PREMIUM' 'Forester XT' 'E 400' '328 i' 'Eos'\n",
      " 'Tucson Limited' 'GL 350 BLUETEC' 'Camaro LS' 'Corolla ECO' 'Cayman'\n",
      " 'Tiida 15 M' 'E 350 4 MATIC' 'Dart' 'Elantra Se' 'Octavia Scout' 'IS 300'\n",
      " 'XC90' 'Mustang cabrio' 'Jetta SE' '500 s' '530 G30' 'Move'\n",
      " 'C 230 kompresor' '2107' 'M5 Машина в максимально' 'Vitara GL+' 'Citan'\n",
      " 'Passat RLAINI' 'Alto Lapin' 'Outlander სპორტ' 'Quest'\n",
      " 'Countryman S turbo' 'Silverado' '4Runner LIMITED' 'Prius V HYBRID'\n",
      " 'RAV 4 LIMITED' 'Malibu Hybrid' 'GLE 450' 'Elantra 2014' 'Trax' 'Ipsum'\n",
      " '530' 'C-MAX SE' 'IS 250 TURBO' 'Durango' 'Juke Nismo RS' 'Lancer GT'\n",
      " 'Urus' 'Continental' 'Armada' 'Juke Nismo' 'F-pace' 'Lantra' 'X3 SDRIVE'\n",
      " 'JX35' 'GL 350 BLUTEC' 'GL 450 3.0' 'Legacy' 'CRX' 'C 250 A.M.G' 'C 220'\n",
      " 'Optima HYBRID' 'XC90 3.2 AWD' '535 535' '640 M' 'Colt' 'C 250 AMG' 'F50'\n",
      " '240' '118' 'Sportage SX' 'GLS 450' 'Prius 1.5I' 'Sonata Limited'\n",
      " 'Tucson Se' 'Sprinter 313CDI' 'Camry XLEi' 'Captur QM3 Samsung' 'RS6'\n",
      " 'Jetta SPORT' '406' '370Z' 'Explorer Turbo japan' 'Fusion Bybrid' 'Demio'\n",
      " 'Lantra LIMITED' 'C 320' 'Sonata Sport' 'A8' 'Pathfinder SE'\n",
      " 'Town and Country' 'RAV 4 se' 'Mazda 2' 'Ist' 'Getz' 'Prius plug-in'\n",
      " 'RAV 4 Dizel' 'Astra j' 'Range Rover Velar' 'Prius personna' 'S3'\n",
      " 'Liberty' 'C 200' 'Fusion 2015' 'Sportage EX' 'Optima EX' 'G 63 AMG' 'C4'\n",
      " 'FIT Modulo' 'Elantra LIMITED' 'Micra' 'Highlander LIMITED'\n",
      " 'RX 450 HYBRID' 'GLC 300' 'X5 4.8is' 'Prius C ჰიბრიდი' 'ML 350 sport'\n",
      " 'Mazda 6 Grand touring' 'X4' 'Sorento EX' 'Camry SPORT PAKET' 'Berlingo'\n",
      " 'S70' 'ML 280' 'RC F F SPORT' 'Golf GTI' 'Ceed' 'CLS 350 JAPAN'\n",
      " 'Santa FE long' 'CC' 'Sonic LT' 'Tucson SE' 'Sportage PRESTIGE' 'QX56'\n",
      " 'Jetta სასწაფოდ' 'Corvette' 'GLK 250' 'Sprinter 316 CDI' '420'\n",
      " 'Cruze PREMIER' 'Navara' 'Outlander xl' 'FIT \"S\"- PAKETI.' 'Fiesta SE'\n",
      " 'H1 GRAND STAREX' 'Cr-v LX' 'Wrangler sport' '500X Lounge' 'Explorer XLT'\n",
      " 'Accent SE' 'Countryman sport' 'Land Cruiser' 'Optima SXL'\n",
      " 'Caravan tradesman' 'C 43 AMG' 'Mariner Hybrid' '3110' 'GL 350 დიზელი'\n",
      " 'Vito 113' 'Passat se' 'Ractis' 'Pajero Mini 2008 წლიანი' 'Eclipse ES'\n",
      " 'Fusion 1.6' 'Passat B7' 'Carens' 'Elantra Gt' 'Elantra 2016' 'M4'\n",
      " 'CLK 240' 'E 350 4 matic' 'xD' 'EcoSport' 'Leaf' 'Elantra LIMITEDI'\n",
      " 'Sienta LE' 'Qashqai SPORT' '400X' 'C1 C' 'Moco' 'C-MAX SEL'\n",
      " 'CLA 250 AMG' 'Highlander 2,4' 'Land Cruiser Prado' 'E 220 CDI' 'C 230'\n",
      " 'FIT GP-6' 'Jetta sport' '318' 'C 300 sport' 'Enclave' 'Elantra i30'\n",
      " 'GS 350' 'X5 DIESEL' 'Hilux' '520 d xDrive Luxury' '730' 'Hr-v EXL'\n",
      " 'Jetta se' 'Aqua sport' 'Vito 111' 'Daimler' 'Jetta sei' 'C 240'\n",
      " 'Sprinter EURO4' 'Yaris SE' 'Combo 1700' 'Mariner' 'CL 500'\n",
      " 'Passat tdi sel' 'C 63 AMG' 'Sonata sport' 'Sonata SE LIMITED'\n",
      " 'Prius 1.8' 'Optima hybrid' 'Accent GS' 'GLE 400' 'X5 35d'\n",
      " 'C 250 AMG-PAKET-1,8' 'Transit 2.4' 'M3' '635' 'Jimny GLX' 'B 200'\n",
      " 'SL 55 AMG' 'Sonata LIMITED' 'C 250 1.8' 'Passat sel' 'XK'\n",
      " 'E 220 ELEGANCE' 'Regal' 'Prius C hybrid' 'Crossfire' 'Cooper F-56' 'G37'\n",
      " 'S-type' 'Santa FE sport' 'GS 450' 'S6' 'Prius prius' 'Camry XSE'\n",
      " '500 sport panorama' 'Fusion HYBRID' 'Crafter 2,5TDI' 'Volt Premier'\n",
      " 'FIT PREMIUMI' 'Passat SEL' 'Fusion Hybrid' 'GLE 43 AMG'\n",
      " 'Land Cruiser 80' '207' 'Paceman' 'i20' 'Prius plagin' 'Punto' 'Prius 3'\n",
      " 'Camry ჰიბრიდი' 'X5 E70' 'Camry SE HIBRYD' '428 i' 'i40' 'Versa s' 'X5 M'\n",
      " 'FIT PREMIUM PAKETI' 'C 300 6.3 AMG Package' 'Vito 110d' 'Sprinter 313'\n",
      " 'Juke NISMO' 'Jetta s' 'Cooper CLUBMAN' 'Colorado' 'Cooper S'\n",
      " 'Pajero Mini 2010 წლიანი' 'Cruze LT RS' '316 1995' 'HUSTLER' 'Pajero'\n",
      " 'Jetta Hybrid' 'FIT NAVI PREMIUM' 'Civic Hybrid' 'Jetta 1.4 TURBO'\n",
      " 'Sonata SE' 'Fit Aria' 'Escape escape' 'ISIS' 'Veracruz' 'Step Wagon'\n",
      " 'Prius C Hybrid' 'Touareg' 'tC' 'Tiguan SE' '500 SPORT'\n",
      " 'Prius C YARIS IA' 'Panda' 'Prius C 1.5I' 'Optima ex' 'Patriot Latitude'\n",
      " 'Kalos' 'ML 550' 'Prius V HIBRID' 'CLS 500' 'X5 Sport' 'Elantra se'\n",
      " 'Fusion HYBRID SE' 'Versa SE' 'B 180' 'Vito Extralong' 'H3' 'FIT LX'\n",
      " 'CL 600' 'Countryman S' 'Prius C aqua']\n"
     ]
    }
   ],
   "source": [
    "print(\"Unique value for Model\\n\", df['Model'].unique())"
   ]
  },
  {
   "cell_type": "markdown",
   "id": "37a85b0d-7849-4a72-bb1d-71a3f7226d7b",
   "metadata": {},
   "source": [
    "### Using label encoding to encode the Model"
   ]
  },
  {
   "cell_type": "code",
   "execution_count": 17,
   "id": "f5b5479e-b687-46f2-96b9-8fcf16c42fec",
   "metadata": {},
   "outputs": [],
   "source": [
    "from sklearn.preprocessing import LabelEncoder\n",
    "labelencoder = LabelEncoder()\n",
    "df['Model'] = labelencoder.fit_transform(df['Model'])"
   ]
  },
  {
   "cell_type": "code",
   "execution_count": 18,
   "id": "9f6f0bfe-4d91-4151-a27c-18783c7cfb79",
   "metadata": {
    "scrolled": true
   },
   "outputs": [
    {
     "name": "stdout",
     "output_type": "stream",
     "text": [
      "<class 'pandas.core.frame.DataFrame'>\n",
      "Index: 13412 entries, 0 to 19236\n",
      "Data columns (total 17 columns):\n",
      " #   Column            Non-Null Count  Dtype  \n",
      "---  ------            --------------  -----  \n",
      " 0   Price             13412 non-null  int64  \n",
      " 1   Levy              13412 non-null  float64\n",
      " 2   Manufacturer      13412 non-null  int32  \n",
      " 3   Model             13412 non-null  int32  \n",
      " 4   Prod. year        13412 non-null  int64  \n",
      " 5   Category          13412 non-null  object \n",
      " 6   Leather interior  13412 non-null  object \n",
      " 7   Fuel type         13412 non-null  object \n",
      " 8   Engine volume     13412 non-null  object \n",
      " 9   Mileage           13412 non-null  object \n",
      " 10  Cylinders         13412 non-null  float64\n",
      " 11  Gear box type     13412 non-null  object \n",
      " 12  Drive wheels      13412 non-null  object \n",
      " 13  Doors             13412 non-null  object \n",
      " 14  Wheel             13412 non-null  object \n",
      " 15  Color             13412 non-null  object \n",
      " 16  Airbags           13412 non-null  int64  \n",
      "dtypes: float64(2), int32(2), int64(3), object(10)\n",
      "memory usage: 1.7+ MB\n"
     ]
    }
   ],
   "source": [
    "df.info()"
   ]
  },
  {
   "cell_type": "markdown",
   "id": "3f963781-ed3d-44c5-8f93-b609834f2bbe",
   "metadata": {},
   "source": [
    "### Cleaning Category and changing it to a float or int"
   ]
  },
  {
   "cell_type": "code",
   "execution_count": 19,
   "id": "2b58fd35-12c4-4ff7-bfa2-a5a0ecf0fc71",
   "metadata": {},
   "outputs": [
    {
     "name": "stdout",
     "output_type": "stream",
     "text": [
      "Unique value for Category\n",
      " ['Jeep' 'Hatchback' 'Sedan' 'Goods wagon' 'Universal' 'Minivan' 'Coupe'\n",
      " 'Microbus' 'Cabriolet' 'Pickup']\n"
     ]
    }
   ],
   "source": [
    "print(\"Unique value for Category\\n\", df['Category'].unique())"
   ]
  },
  {
   "cell_type": "markdown",
   "id": "4544fe63-1d6c-4a15-99ed-a7e1ae4662bd",
   "metadata": {},
   "source": [
    "### Using label encoding to encode the Category"
   ]
  },
  {
   "cell_type": "code",
   "execution_count": 20,
   "id": "1270ae30-cf7d-4d99-8f0f-f8d232c54401",
   "metadata": {},
   "outputs": [],
   "source": [
    "\n",
    "labelencoder = LabelEncoder()\n",
    "df['Category'] = labelencoder.fit_transform(df['Category'])"
   ]
  },
  {
   "cell_type": "code",
   "execution_count": 21,
   "id": "f47966ef-b8f3-4a8b-87a4-dcf2121bf166",
   "metadata": {},
   "outputs": [
    {
     "name": "stdout",
     "output_type": "stream",
     "text": [
      "<class 'pandas.core.frame.DataFrame'>\n",
      "Index: 13412 entries, 0 to 19236\n",
      "Data columns (total 17 columns):\n",
      " #   Column            Non-Null Count  Dtype  \n",
      "---  ------            --------------  -----  \n",
      " 0   Price             13412 non-null  int64  \n",
      " 1   Levy              13412 non-null  float64\n",
      " 2   Manufacturer      13412 non-null  int32  \n",
      " 3   Model             13412 non-null  int32  \n",
      " 4   Prod. year        13412 non-null  int64  \n",
      " 5   Category          13412 non-null  int32  \n",
      " 6   Leather interior  13412 non-null  object \n",
      " 7   Fuel type         13412 non-null  object \n",
      " 8   Engine volume     13412 non-null  object \n",
      " 9   Mileage           13412 non-null  object \n",
      " 10  Cylinders         13412 non-null  float64\n",
      " 11  Gear box type     13412 non-null  object \n",
      " 12  Drive wheels      13412 non-null  object \n",
      " 13  Doors             13412 non-null  object \n",
      " 14  Wheel             13412 non-null  object \n",
      " 15  Color             13412 non-null  object \n",
      " 16  Airbags           13412 non-null  int64  \n",
      "dtypes: float64(2), int32(3), int64(3), object(9)\n",
      "memory usage: 1.7+ MB\n"
     ]
    }
   ],
   "source": [
    "df.info()"
   ]
  },
  {
   "cell_type": "markdown",
   "id": "1351ff01-fdde-4089-802b-814ddf46b9b9",
   "metadata": {},
   "source": [
    "### Cleaning Leather interior, Fuel type, Gear box type, Drive wheel, Doors, Wheel, color and changing it to a float or int"
   ]
  },
  {
   "cell_type": "code",
   "execution_count": 22,
   "id": "a04e6711-ee53-4b9a-9f03-bdbca93a2dc3",
   "metadata": {},
   "outputs": [
    {
     "name": "stdout",
     "output_type": "stream",
     "text": [
      "Unique value for Leather interior\n",
      " ['Yes' 'No']\n",
      "\n",
      "Unique value for Fuel type\n",
      " ['Hybrid' 'Petrol' 'Diesel' 'Plug-in Hybrid' 'LPG' 'CNG']\n",
      "\n",
      "Unique value for Gear box type\n",
      " ['Automatic' 'Tiptronic' 'Manual' 'Variator']\n",
      "\n",
      "Unique value for Drive wheels\n",
      " ['4x4' 'Front' 'Rear']\n",
      "\n",
      "Unique value for Doors\n",
      " ['04-May' '02-Mar' '>5']\n",
      "\n",
      "Unique value for Wheel\n",
      " ['Left wheel' 'Right-hand drive']\n",
      "\n",
      "Unique value for Color\n",
      " ['Silver' 'Black' 'White' 'Grey' 'Blue' 'Red' 'Sky blue' 'Orange' 'Green'\n",
      " 'Yellow' 'Brown' 'Beige' 'Carnelian red' 'Golden' 'Pink' 'Purple']\n"
     ]
    }
   ],
   "source": [
    "print(\"Unique value for Leather interior\\n\", df['Leather interior'].unique())\n",
    "print(\"\\nUnique value for Fuel type\\n\", df['Fuel type'].unique())\n",
    "print(\"\\nUnique value for Gear box type\\n\", df['Gear box type'].unique())\n",
    "print(\"\\nUnique value for Drive wheels\\n\", df['Drive wheels'].unique())\n",
    "print(\"\\nUnique value for Doors\\n\", df['Doors'].unique())\n",
    "print(\"\\nUnique value for Wheel\\n\", df['Wheel'].unique())\n",
    "print(\"\\nUnique value for Color\\n\", df['Color'].unique())"
   ]
  },
  {
   "cell_type": "markdown",
   "id": "36b562f7-fe83-4173-b401-2a9845ef5ed6",
   "metadata": {},
   "source": [
    "### Using label encoding to encode Leather interior, Fuel type, Gear box type, Drive wheel, Doors, Wheel, color\n"
   ]
  },
  {
   "cell_type": "code",
   "execution_count": 23,
   "id": "3358d0c1-9d32-414c-b33a-a400c23fb8cc",
   "metadata": {},
   "outputs": [],
   "source": [
    "\n",
    "labelencoder = LabelEncoder()\n",
    "df['Leather interior'] = labelencoder.fit_transform(df['Leather interior'])\n",
    "df['Fuel type'] = labelencoder.fit_transform(df['Fuel type'])\n",
    "df['Gear box type'] = labelencoder.fit_transform(df['Gear box type'])\n",
    "df['Drive wheels'] = labelencoder.fit_transform(df['Drive wheels'])\n",
    "df['Doors'] = labelencoder.fit_transform(df['Doors'])\n",
    "df['Wheel'] = labelencoder.fit_transform(df['Wheel'])\n",
    "df['Color'] = labelencoder.fit_transform(df['Color'])"
   ]
  },
  {
   "cell_type": "code",
   "execution_count": 24,
   "id": "5f6c058f-2502-4e4c-aa4e-21122bc2be20",
   "metadata": {},
   "outputs": [
    {
     "name": "stdout",
     "output_type": "stream",
     "text": [
      "<class 'pandas.core.frame.DataFrame'>\n",
      "Index: 13412 entries, 0 to 19236\n",
      "Data columns (total 17 columns):\n",
      " #   Column            Non-Null Count  Dtype  \n",
      "---  ------            --------------  -----  \n",
      " 0   Price             13412 non-null  int64  \n",
      " 1   Levy              13412 non-null  float64\n",
      " 2   Manufacturer      13412 non-null  int32  \n",
      " 3   Model             13412 non-null  int32  \n",
      " 4   Prod. year        13412 non-null  int64  \n",
      " 5   Category          13412 non-null  int32  \n",
      " 6   Leather interior  13412 non-null  int32  \n",
      " 7   Fuel type         13412 non-null  int32  \n",
      " 8   Engine volume     13412 non-null  object \n",
      " 9   Mileage           13412 non-null  object \n",
      " 10  Cylinders         13412 non-null  float64\n",
      " 11  Gear box type     13412 non-null  int32  \n",
      " 12  Drive wheels      13412 non-null  int32  \n",
      " 13  Doors             13412 non-null  int32  \n",
      " 14  Wheel             13412 non-null  int32  \n",
      " 15  Color             13412 non-null  int32  \n",
      " 16  Airbags           13412 non-null  int64  \n",
      "dtypes: float64(2), int32(10), int64(3), object(2)\n",
      "memory usage: 1.3+ MB\n"
     ]
    }
   ],
   "source": [
    "df.info()"
   ]
  },
  {
   "cell_type": "markdown",
   "id": "e21010a2-4f00-433b-ad11-2e943c813315",
   "metadata": {},
   "source": [
    "### Cleaning Engine Volume and changing it to a float or int"
   ]
  },
  {
   "cell_type": "code",
   "execution_count": 25,
   "id": "28eee408-831d-49a5-b53e-0582c21cf016",
   "metadata": {},
   "outputs": [
    {
     "name": "stdout",
     "output_type": "stream",
     "text": [
      "\n",
      "Unique value for Engine volume\n",
      " ['3.5' '3' '2.5' '1.3' '2' '1.8' '2.4' '3.3' '1.6' '4.7' '2.0 Turbo'\n",
      " '1.4 Turbo' '3.6' '4' '1.5' '1.6 Turbo' '2.2' '1.4' '5.5' '3.8' '4.6'\n",
      " '2.3' '2.9' '1.8 Turbo' '2.4 Turbo' '2.7' '4.8' '5.3' '0.4' '2.1' '1.7'\n",
      " '0.7' '3.2' '2.2 Turbo' '4.4' '1.3 Turbo' '3.0 Turbo' '1' '4.4 Turbo'\n",
      " '1.9' '2.5 Turbo' '0.8' '1.5 Turbo' '3.5 Turbo' '5.7' '1.2' '4.6 Turbo'\n",
      " '6.7' '6.2' '1.2 Turbo' '3.4' '1.7 Turbo' '2.9 Turbo' '0' '1.9 Turbo'\n",
      " '3.7' '20' '2.7 Turbo' '5.5 Turbo' '0.2' '5.6' '2.8' '4.7 Turbo' '5'\n",
      " '6.8' '6' '7.3' '3.6 Turbo' '4.5 Turbo' '0.8 Turbo' '4.5' '5.4'\n",
      " '2.8 Turbo' '6.4' '6.3' '3.9' '4.2' '0.1' '1.1' '2.3 Turbo' '4.3'\n",
      " '0.7 Turbo' '1.0 Turbo' '2.6' '2.1 Turbo' '5.2' '3.7 Turbo']\n"
     ]
    }
   ],
   "source": [
    "print(\"\\nUnique value for Engine volume\\n\", df['Engine volume'].unique())"
   ]
  },
  {
   "cell_type": "code",
   "execution_count": 26,
   "id": "4436f08e-8b0c-4776-b8d6-826f240e0ca3",
   "metadata": {},
   "outputs": [
    {
     "data": {
      "image/png": "[encoded data removed]",
      "text/plain": [
       "<Figure size 640x480 with 1 Axes>"
      ]
     },
     "metadata": {},
     "output_type": "display_data"
    }
   ],
   "source": [
    "# remover all the turbo and replace with NaN\n",
    "df['Engine volume'] = pd.to_numeric(df['Engine volume'], errors='coerce')\n",
    "\n",
    "sns.boxplot(x=df['Engine volume'])\n",
    "plt.title(f'Boxplot for Engine volume')\n",
    "plt.show()"
   ]
  },
  {
   "cell_type": "markdown",
   "id": "e2ab1704-7c8c-4578-bb35-29df9e02150c",
   "metadata": {},
   "source": [
    "### Remove Outliers"
   ]
  },
  {
   "cell_type": "code",
   "execution_count": 27,
   "id": "bfa27aa0-5dec-49e7-8e07-00eabe86df3b",
   "metadata": {},
   "outputs": [
    {
     "data": {
      "image/png": "[encoded data removed]",
      "text/plain": [
       "<Figure size 640x480 with 1 Axes>"
      ]
     },
     "metadata": {},
     "output_type": "display_data"
    }
   ],
   "source": [
    "df = df[df['Engine volume'] <= 7.5]\n",
    "sns.boxplot(x=df['Engine volume'])\n",
    "plt.title(f'Boxplot for Engine volume')\n",
    "plt.show()"
   ]
  },
  {
   "cell_type": "code",
   "execution_count": 28,
   "id": "7fdb961a-58db-4b29-b8a0-80d119008c41",
   "metadata": {},
   "outputs": [
    {
     "name": "stderr",
     "output_type": "stream",
     "text": [
      "C:\\Users\\Justin\\anaconda3\\Lib\\site-packages\\seaborn\\_oldcore.py:1119: FutureWarning: use_inf_as_na option is deprecated and will be removed in a future version. Convert inf values to NaN before operating instead.\n",
      "  with pd.option_context('mode.use_inf_as_na', True):\n"
     ]
    },
    {
     "data": {
      "image/png": "[encoded data removed]",
      "text/plain": [
       "<Figure size 640x480 with 1 Axes>"
      ]
     },
     "metadata": {},
     "output_type": "display_data"
    }
   ],
   "source": [
    "sns.histplot(df['Engine volume'], bins=20)\n",
    "plt.title('Distribution of Engine volume Values')\n",
    "plt.xlabel('Engine volume')\n",
    "plt.ylabel('Frequency')\n",
    "plt.show()"
   ]
  },
  {
   "cell_type": "markdown",
   "id": "41d2a7b2-5493-422a-b29b-d5a441bce492",
   "metadata": {},
   "source": [
    "### Going replace the NaN value with the median"
   ]
  },
  {
   "cell_type": "code",
   "execution_count": 29,
   "id": "2aca4519-c27b-4487-bf92-6b8e588f27f8",
   "metadata": {},
   "outputs": [],
   "source": [
    "df['Engine volume'].fillna( df['Engine volume'].mean(), inplace=True)"
   ]
  },
  {
   "cell_type": "code",
   "execution_count": 30,
   "id": "d61edb2f-f59e-41e9-9f56-34c7e91ea657",
   "metadata": {},
   "outputs": [
    {
     "name": "stdout",
     "output_type": "stream",
     "text": [
      "<class 'pandas.core.frame.DataFrame'>\n",
      "Index: 12630 entries, 0 to 19236\n",
      "Data columns (total 17 columns):\n",
      " #   Column            Non-Null Count  Dtype  \n",
      "---  ------            --------------  -----  \n",
      " 0   Price             12630 non-null  int64  \n",
      " 1   Levy              12630 non-null  float64\n",
      " 2   Manufacturer      12630 non-null  int32  \n",
      " 3   Model             12630 non-null  int32  \n",
      " 4   Prod. year        12630 non-null  int64  \n",
      " 5   Category          12630 non-null  int32  \n",
      " 6   Leather interior  12630 non-null  int32  \n",
      " 7   Fuel type         12630 non-null  int32  \n",
      " 8   Engine volume     12630 non-null  float64\n",
      " 9   Mileage           12630 non-null  object \n",
      " 10  Cylinders         12630 non-null  float64\n",
      " 11  Gear box type     12630 non-null  int32  \n",
      " 12  Drive wheels      12630 non-null  int32  \n",
      " 13  Doors             12630 non-null  int32  \n",
      " 14  Wheel             12630 non-null  int32  \n",
      " 15  Color             12630 non-null  int32  \n",
      " 16  Airbags           12630 non-null  int64  \n",
      "dtypes: float64(3), int32(10), int64(3), object(1)\n",
      "memory usage: 1.3+ MB\n"
     ]
    }
   ],
   "source": [
    "df.info()"
   ]
  },
  {
   "cell_type": "markdown",
   "id": "43d0afd3-1065-4508-b3e0-13ac09cab14c",
   "metadata": {},
   "source": [
    "### Lastly, Cleaning Mileage and chainging it into a float or int"
   ]
  },
  {
   "cell_type": "code",
   "execution_count": 31,
   "id": "8e989297-8519-46a3-9b9e-f8c1421e1285",
   "metadata": {},
   "outputs": [
    {
     "name": "stdout",
     "output_type": "stream",
     "text": [
      "\n",
      "Unique value for Mileage\n",
      " ['186005 km' '192000 km' '168966 km' ... '132700 km' '307325 km'\n",
      " '186923 km']\n"
     ]
    }
   ],
   "source": [
    "print(\"\\nUnique value for Mileage\\n\", df['Mileage'].unique())"
   ]
  },
  {
   "cell_type": "code",
   "execution_count": 32,
   "id": "c2afbb3c-95b5-4d77-8b4f-28ffe2245119",
   "metadata": {},
   "outputs": [
    {
     "data": {
      "text/plain": [
       "0        186005\n",
       "1        192000\n",
       "3        168966\n",
       "4         91901\n",
       "5        160931\n",
       "          ...  \n",
       "19231    107800\n",
       "19233    161600\n",
       "19234    116365\n",
       "19235     51258\n",
       "19236    186923\n",
       "Name: Mileage, Length: 12630, dtype: int32"
      ]
     },
     "execution_count": 32,
     "metadata": {},
     "output_type": "execute_result"
    }
   ],
   "source": [
    "# Remove non-numeric characters of km and convert 'Mileage' to integers\n",
    "df['Mileage'] = df['Mileage'].str.replace(' km', '').str.replace(',', '')\n",
    "df['Mileage']=df['Mileage'] .astype(int)\n",
    "df['Mileage']"
   ]
  },
  {
   "cell_type": "code",
   "execution_count": 33,
   "id": "f0b18146-e567-428a-b8c6-363a63a1029c",
   "metadata": {},
   "outputs": [
    {
     "data": {
      "image/png": "[encoded data removed]",
      "text/plain": [
       "<Figure size 640x480 with 1 Axes>"
      ]
     },
     "metadata": {},
     "output_type": "display_data"
    },
    {
     "data": {
      "image/png": "[encoded data removed]",
      "text/plain": [
       "<Figure size 640x480 with 1 Axes>"
      ]
     },
     "metadata": {},
     "output_type": "display_data"
    }
   ],
   "source": [
    "sns.boxplot(x=df['Price'])\n",
    "plt.title(f'Boxplot for Price')\n",
    "plt.show()\n",
    "\n",
    "df = df[df['Price'] < 200000]\n",
    "sns.boxplot(x=df['Price'])\n",
    "plt.title(f'Boxplot for Price')\n",
    "plt.show()"
   ]
  },
  {
   "cell_type": "code",
   "execution_count": null,
   "id": "38c74476-dd9d-4caa-b1ef-811163af5fb8",
   "metadata": {},
   "outputs": [],
   "source": [
    "\n"
   ]
  },
  {
   "cell_type": "code",
   "execution_count": 34,
   "id": "560e46e7-a12b-4e18-b75c-494d7872e4e5",
   "metadata": {},
   "outputs": [
    {
     "name": "stdout",
     "output_type": "stream",
     "text": [
      "<class 'pandas.core.frame.DataFrame'>\n",
      "Index: 12627 entries, 0 to 19236\n",
      "Data columns (total 17 columns):\n",
      " #   Column            Non-Null Count  Dtype  \n",
      "---  ------            --------------  -----  \n",
      " 0   Price             12627 non-null  int64  \n",
      " 1   Levy              12627 non-null  float64\n",
      " 2   Manufacturer      12627 non-null  int32  \n",
      " 3   Model             12627 non-null  int32  \n",
      " 4   Prod. year        12627 non-null  int64  \n",
      " 5   Category          12627 non-null  int32  \n",
      " 6   Leather interior  12627 non-null  int32  \n",
      " 7   Fuel type         12627 non-null  int32  \n",
      " 8   Engine volume     12627 non-null  float64\n",
      " 9   Mileage           12627 non-null  int32  \n",
      " 10  Cylinders         12627 non-null  float64\n",
      " 11  Gear box type     12627 non-null  int32  \n",
      " 12  Drive wheels      12627 non-null  int32  \n",
      " 13  Doors             12627 non-null  int32  \n",
      " 14  Wheel             12627 non-null  int32  \n",
      " 15  Color             12627 non-null  int32  \n",
      " 16  Airbags           12627 non-null  int64  \n",
      "dtypes: float64(3), int32(11), int64(3)\n",
      "memory usage: 1.2 MB\n"
     ]
    }
   ],
   "source": [
    "df.info()"
   ]
  },
  {
   "cell_type": "markdown",
   "id": "16ab6f19-cfd2-4f6a-ad21-384dc49f3af9",
   "metadata": {},
   "source": [
    "# Before making model, I want to view the top 5 things in Prod year, model, Category, Manufacturer, color"
   ]
  },
  {
   "cell_type": "code",
   "execution_count": 35,
   "id": "9b6cacb7-7738-4b94-bfff-c3c9973319a9",
   "metadata": {},
   "outputs": [
    {
     "name": "stdout",
     "output_type": "stream",
     "text": [
      "Top 5 values for Prod. year:\n",
      "Prod. year\n",
      "2012    2155\n",
      "2014    2124\n",
      "2013    1963\n",
      "2011    1612\n",
      "2015    1549\n",
      "Name: count, dtype: int64\n",
      "\n",
      "Top 5 values for Model:\n",
      "Model\n",
      "Prius      1083\n",
      "Sonata     1079\n",
      "Camry       938\n",
      "Elantra     922\n",
      "E 350       542\n",
      "Name: count, dtype: int64\n",
      "\n",
      "Top 5 values for Category:\n",
      "Category\n",
      "Sedan        8736\n",
      "Jeep         5473\n",
      "Hatchback    2847\n",
      "Minivan       647\n",
      "Coupe         532\n",
      "Name: count, dtype: int64\n",
      "\n",
      "Top 5 values for Manufacturer:\n",
      "Manufacturer\n",
      "HYUNDAI          3769\n",
      "TOYOTA           3662\n",
      "MERCEDES-BENZ    2076\n",
      "FORD             1111\n",
      "CHEVROLET        1069\n",
      "Name: count, dtype: int64\n",
      "\n",
      "Top 5 values for Color:\n",
      "Color\n",
      "Black     5033\n",
      "White     4489\n",
      "Silver    3792\n",
      "Grey      2375\n",
      "Blue      1396\n",
      "Name: count, dtype: int64\n",
      "\n"
     ]
    }
   ],
   "source": [
    "view_df = pd.read_csv('car_price_prediction.csv')\n",
    "\n",
    "Features = [\"Prod. year\", \"Model\", \"Category\", \"Manufacturer\", \"Color\"]\n",
    "\n",
    "# Print top 5 values for each feature\n",
    "for feature in Features:\n",
    "    top5 = view_df[feature].value_counts().head(5)\n",
    "    print(f\"Top 5 values for {feature}:\")\n",
    "    print(top5)\n",
    "    print()"
   ]
  },
  {
   "cell_type": "code",
   "execution_count": 36,
   "id": "24758daa-650c-41e1-aaa1-834df6ee6775",
   "metadata": {},
   "outputs": [
    {
     "data": {
      "image/png": "[encoded data removed]",
      "text/plain": [
       "<Figure size 1500x1500 with 6 Axes>"
      ]
     },
     "metadata": {},
     "output_type": "display_data"
    }
   ],
   "source": [
    "# Read the DataFrame from the CSV file\n",
    "view_df = pd.read_csv('car_price_prediction.csv')\n",
    "\n",
    "# Define the features\n",
    "Features = [\"Prod. year\", \"Model\", \"Category\", \"Manufacturer\", \"Color\"]\n",
    "\n",
    "# Plotting\n",
    "fig, axes = plt.subplots(3, 2, figsize=(15, 15))\n",
    "\n",
    "for i, feature in enumerate(Features):\n",
    "    ax = axes[i//2, i%2]\n",
    "    top5 = view_df[feature].value_counts().head(5)\n",
    "    top5.plot(kind='bar', ax=ax)\n",
    "    ax.set_title(f\"Top 5 values for {feature}\")\n",
    "    ax.set_xlabel(\"Value\")\n",
    "    ax.set_ylabel(\"Count\")\n",
    "\n",
    "# Adjust layout\n",
    "plt.tight_layout()\n",
    "plt.show()\n",
    "\n"
   ]
  },
  {
   "cell_type": "markdown",
   "id": "b607681d-74b0-48b6-b5e3-1a1fd30b4f95",
   "metadata": {
    "jp-MarkdownHeadingCollapsed": true
   },
   "source": [
    "## The Most common Prod.year = 2012 with 2155   # The most common Category was Sedan with 8763"
   ]
  },
  {
   "cell_type": "markdown",
   "id": "453c6965-8bba-4c6b-8286-c760a8a80b3c",
   "metadata": {},
   "source": [
    "## The most common model was Prius with 1083"
   ]
  },
  {
   "cell_type": "markdown",
   "id": "f7602b8c-441e-4ff9-a428-b91f5aa76481",
   "metadata": {},
   "source": [
    "## The most common Category was Sedan with 8763"
   ]
  },
  {
   "cell_type": "markdown",
   "id": "8452d7f0-7d6f-43f8-b68e-f7bd00f6f5a0",
   "metadata": {},
   "source": [
    "## The most common Manufactuer was Hyundai with 3769"
   ]
  },
  {
   "cell_type": "markdown",
   "id": "a8124659-2629-4166-962a-4bc515371dda",
   "metadata": {},
   "source": [
    "## The most common color was Black with 5033"
   ]
  },
  {
   "cell_type": "markdown",
   "id": "f5d18658-d71d-4405-99de-fd8fa4824330",
   "metadata": {},
   "source": [
    "# We need to normalize the data, so all the features have the same scale."
   ]
  },
  {
   "cell_type": "code",
   "execution_count": 37,
   "id": "cece4e85-6c3f-486f-9b73-6b1ed6d72f08",
   "metadata": {},
   "outputs": [],
   "source": [
    "from sklearn.preprocessing import StandardScaler\n",
    "normalizer = StandardScaler()\n",
    "\n",
    "# Fit the normalizer to your data and transform the data\n",
    "normalized_data = normalizer.fit_transform(df)\n",
    "\n",
    "# Create a new DataFrame with the normalized data\n",
    "normalized_df = pd.DataFrame(normalized_data, columns=df.columns)"
   ]
  },
  {
   "cell_type": "markdown",
   "id": "4c38b062-cb70-4734-aa00-7741b36455ac",
   "metadata": {},
   "source": [
    "# After we normalize. We can see the correlation between each features"
   ]
  },
  {
   "cell_type": "code",
   "execution_count": 38,
   "id": "10d1bbf2-d506-438e-9a6a-f0a494a33d17",
   "metadata": {},
   "outputs": [
    {
     "data": {
      "text/html": [
       "<style type=\"text/css\">\n",
       "#T_07437_row0_col0, #T_07437_row1_col1, #T_07437_row2_col2, #T_07437_row3_col3, #T_07437_row4_col4, #T_07437_row5_col5, #T_07437_row6_col6, #T_07437_row7_col7, #T_07437_row8_col8, #T_07437_row9_col9, #T_07437_row10_col10, #T_07437_row11_col11, #T_07437_row12_col12, #T_07437_row13_col13, #T_07437_row14_col14, #T_07437_row15_col15, #T_07437_row16_col16 {\n",
       "  background-color: #023858;\n",
       "  color: #f1f1f1;\n",
       "}\n",
       "#T_07437_row0_col1, #T_07437_row10_col7 {\n",
       "  background-color: #d6d6e9;\n",
       "  color: #000000;\n",
       "}\n",
       "#T_07437_row0_col2, #T_07437_row0_col7 {\n",
       "  background-color: #f3edf5;\n",
       "  color: #000000;\n",
       "}\n",
       "#T_07437_row0_col3, #T_07437_row7_col12, #T_07437_row11_col10, #T_07437_row13_col14, #T_07437_row16_col7 {\n",
       "  background-color: #d3d4e7;\n",
       "  color: #000000;\n",
       "}\n",
       "#T_07437_row0_col4 {\n",
       "  background-color: #8bb2d4;\n",
       "  color: #000000;\n",
       "}\n",
       "#T_07437_row0_col5 {\n",
       "  background-color: #faf2f8;\n",
       "  color: #000000;\n",
       "}\n",
       "#T_07437_row0_col6, #T_07437_row2_col8, #T_07437_row3_col6 {\n",
       "  background-color: #c0c9e2;\n",
       "  color: #000000;\n",
       "}\n",
       "#T_07437_row0_col8, #T_07437_row3_col11, #T_07437_row4_col7, #T_07437_row11_col0, #T_07437_row12_col6, #T_07437_row16_col1 {\n",
       "  background-color: #cdd0e5;\n",
       "  color: #000000;\n",
       "}\n",
       "#T_07437_row0_col9, #T_07437_row1_col15, #T_07437_row2_col3, #T_07437_row7_col15, #T_07437_row10_col4, #T_07437_row10_col13, #T_07437_row16_col9, #T_07437_row16_col15 {\n",
       "  background-color: #f8f1f8;\n",
       "  color: #000000;\n",
       "}\n",
       "#T_07437_row0_col10, #T_07437_row1_col7, #T_07437_row6_col12 {\n",
       "  background-color: #d2d3e7;\n",
       "  color: #000000;\n",
       "}\n",
       "#T_07437_row0_col11 {\n",
       "  background-color: #afc1dd;\n",
       "  color: #000000;\n",
       "}\n",
       "#T_07437_row0_col12, #T_07437_row5_col11, #T_07437_row7_col8, #T_07437_row11_col12, #T_07437_row14_col12 {\n",
       "  background-color: #c2cbe2;\n",
       "  color: #000000;\n",
       "}\n",
       "#T_07437_row0_col13, #T_07437_row9_col2, #T_07437_row11_col5, #T_07437_row13_col16, #T_07437_row14_col0, #T_07437_row15_col2 {\n",
       "  background-color: #e8e4f0;\n",
       "  color: #000000;\n",
       "}\n",
       "#T_07437_row0_col14, #T_07437_row4_col14, #T_07437_row11_col8, #T_07437_row13_col0, #T_07437_row13_col8, #T_07437_row14_col2 {\n",
       "  background-color: #dad9ea;\n",
       "  color: #000000;\n",
       "}\n",
       "#T_07437_row0_col15, #T_07437_row2_col7, #T_07437_row9_col13, #T_07437_row11_col3, #T_07437_row14_col16, #T_07437_row15_col1 {\n",
       "  background-color: #ede8f3;\n",
       "  color: #000000;\n",
       "}\n",
       "#T_07437_row0_col16, #T_07437_row1_col4, #T_07437_row3_col5, #T_07437_row3_col7, #T_07437_row4_col1, #T_07437_row4_col9, #T_07437_row6_col2, #T_07437_row6_col11, #T_07437_row6_col14, #T_07437_row7_col3, #T_07437_row8_col15, #T_07437_row10_col12, #T_07437_row10_col15, #T_07437_row11_col6, #T_07437_row12_col1, #T_07437_row12_col8, #T_07437_row12_col10, #T_07437_row12_col13, #T_07437_row16_col0 {\n",
       "  background-color: #fff7fb;\n",
       "  color: #000000;\n",
       "}\n",
       "#T_07437_row1_col0 {\n",
       "  background-color: #d4d4e8;\n",
       "  color: #000000;\n",
       "}\n",
       "#T_07437_row1_col2, #T_07437_row2_col4, #T_07437_row3_col15, #T_07437_row4_col3 {\n",
       "  background-color: #e6e2ef;\n",
       "  color: #000000;\n",
       "}\n",
       "#T_07437_row1_col3, #T_07437_row6_col13, #T_07437_row9_col5, #T_07437_row10_col0 {\n",
       "  background-color: #e7e3f0;\n",
       "  color: #000000;\n",
       "}\n",
       "#T_07437_row1_col5, #T_07437_row5_col0, #T_07437_row6_col15, #T_07437_row8_col4, #T_07437_row11_col15 {\n",
       "  background-color: #f2ecf5;\n",
       "  color: #000000;\n",
       "}\n",
       "#T_07437_row1_col6, #T_07437_row5_col16, #T_07437_row11_col16, #T_07437_row13_col5 {\n",
       "  background-color: #bfc9e1;\n",
       "  color: #000000;\n",
       "}\n",
       "#T_07437_row1_col8 {\n",
       "  background-color: #056dab;\n",
       "  color: #f1f1f1;\n",
       "}\n",
       "#T_07437_row1_col9, #T_07437_row3_col9, #T_07437_row6_col7 {\n",
       "  background-color: #f5eef6;\n",
       "  color: #000000;\n",
       "}\n",
       "#T_07437_row1_col10 {\n",
       "  background-color: #0d75b3;\n",
       "  color: #f1f1f1;\n",
       "}\n",
       "#T_07437_row1_col11, #T_07437_row5_col13 {\n",
       "  background-color: #c4cbe3;\n",
       "  color: #000000;\n",
       "}\n",
       "#T_07437_row1_col12, #T_07437_row2_col15, #T_07437_row4_col2, #T_07437_row7_col0, #T_07437_row12_col7 {\n",
       "  background-color: #eee8f3;\n",
       "  color: #000000;\n",
       "}\n",
       "#T_07437_row1_col13, #T_07437_row8_col9, #T_07437_row10_col5, #T_07437_row10_col9, #T_07437_row12_col9, #T_07437_row13_col9, #T_07437_row14_col6, #T_07437_row14_col9, #T_07437_row15_col9 {\n",
       "  background-color: #f7f0f7;\n",
       "  color: #000000;\n",
       "}\n",
       "#T_07437_row1_col14 {\n",
       "  background-color: #99b8d8;\n",
       "  color: #000000;\n",
       "}\n",
       "#T_07437_row1_col16, #T_07437_row7_col5, #T_07437_row9_col6, #T_07437_row9_col12, #T_07437_row15_col6, #T_07437_row15_col11, #T_07437_row15_col14 {\n",
       "  background-color: #c9cee4;\n",
       "  color: #000000;\n",
       "}\n",
       "#T_07437_row2_col0, #T_07437_row8_col5, #T_07437_row9_col7, #T_07437_row14_col8, #T_07437_row14_col15, #T_07437_row15_col16 {\n",
       "  background-color: #eae6f1;\n",
       "  color: #000000;\n",
       "}\n",
       "#T_07437_row2_col1, #T_07437_row5_col10, #T_07437_row6_col1, #T_07437_row8_col0 {\n",
       "  background-color: #dddbec;\n",
       "  color: #000000;\n",
       "}\n",
       "#T_07437_row2_col5, #T_07437_row4_col15, #T_07437_row5_col15, #T_07437_row7_col13, #T_07437_row11_col13 {\n",
       "  background-color: #f1ebf4;\n",
       "  color: #000000;\n",
       "}\n",
       "#T_07437_row2_col6, #T_07437_row3_col4, #T_07437_row3_col12, #T_07437_row4_col13, #T_07437_row9_col0, #T_07437_row12_col15 {\n",
       "  background-color: #e0deed;\n",
       "  color: #000000;\n",
       "}\n",
       "#T_07437_row2_col9 {\n",
       "  background-color: #f6eff7;\n",
       "  color: #000000;\n",
       "}\n",
       "#T_07437_row2_col10, #T_07437_row3_col8, #T_07437_row9_col10, #T_07437_row13_col11 {\n",
       "  background-color: #cacee5;\n",
       "  color: #000000;\n",
       "}\n",
       "#T_07437_row2_col11, #T_07437_row16_col11 {\n",
       "  background-color: #a1bbda;\n",
       "  color: #000000;\n",
       "}\n",
       "#T_07437_row2_col12, #T_07437_row7_col14 {\n",
       "  background-color: #d0d1e6;\n",
       "  color: #000000;\n",
       "}\n",
       "#T_07437_row2_col13, #T_07437_row4_col10, #T_07437_row5_col14, #T_07437_row14_col7 {\n",
       "  background-color: #e5e1ef;\n",
       "  color: #000000;\n",
       "}\n",
       "#T_07437_row2_col14, #T_07437_row10_col16, #T_07437_row12_col11 {\n",
       "  background-color: #bdc8e1;\n",
       "  color: #000000;\n",
       "}\n",
       "#T_07437_row2_col16, #T_07437_row4_col0 {\n",
       "  background-color: #88b1d4;\n",
       "  color: #000000;\n",
       "}\n",
       "#T_07437_row3_col0, #T_07437_row7_col1, #T_07437_row7_col16, #T_07437_row11_col7, #T_07437_row12_col14, #T_07437_row16_col5 {\n",
       "  background-color: #cccfe5;\n",
       "  color: #000000;\n",
       "}\n",
       "#T_07437_row3_col1, #T_07437_row8_col3, #T_07437_row13_col2, #T_07437_row13_col12 {\n",
       "  background-color: #e2dfee;\n",
       "  color: #000000;\n",
       "}\n",
       "#T_07437_row3_col2, #T_07437_row8_col12 {\n",
       "  background-color: #fbf4f9;\n",
       "  color: #000000;\n",
       "}\n",
       "#T_07437_row3_col10, #T_07437_row5_col7 {\n",
       "  background-color: #c5cce3;\n",
       "  color: #000000;\n",
       "}\n",
       "#T_07437_row3_col13, #T_07437_row9_col1, #T_07437_row10_col14, #T_07437_row15_col10 {\n",
       "  background-color: #dfddec;\n",
       "  color: #000000;\n",
       "}\n",
       "#T_07437_row3_col14, #T_07437_row8_col2 {\n",
       "  background-color: #dedcec;\n",
       "  color: #000000;\n",
       "}\n",
       "#T_07437_row3_col16, #T_07437_row5_col9, #T_07437_row8_col13, #T_07437_row11_col9 {\n",
       "  background-color: #f5eff6;\n",
       "  color: #000000;\n",
       "}\n",
       "#T_07437_row4_col5, #T_07437_row4_col16, #T_07437_row12_col4 {\n",
       "  background-color: #d7d6e9;\n",
       "  color: #000000;\n",
       "}\n",
       "#T_07437_row4_col6, #T_07437_row16_col10 {\n",
       "  background-color: #a5bddb;\n",
       "  color: #000000;\n",
       "}\n",
       "#T_07437_row4_col8, #T_07437_row6_col16, #T_07437_row11_col1 {\n",
       "  background-color: #e1dfed;\n",
       "  color: #000000;\n",
       "}\n",
       "#T_07437_row4_col11, #T_07437_row13_col4 {\n",
       "  background-color: #d5d5e8;\n",
       "  color: #000000;\n",
       "}\n",
       "#T_07437_row4_col12, #T_07437_row13_col6 {\n",
       "  background-color: #bcc7e1;\n",
       "  color: #000000;\n",
       "}\n",
       "#T_07437_row5_col1, #T_07437_row15_col13 {\n",
       "  background-color: #ede7f2;\n",
       "  color: #000000;\n",
       "}\n",
       "#T_07437_row5_col2, #T_07437_row14_col3 {\n",
       "  background-color: #f1ebf5;\n",
       "  color: #000000;\n",
       "}\n",
       "#T_07437_row5_col3 {\n",
       "  background-color: #fdf5fa;\n",
       "  color: #000000;\n",
       "}\n",
       "#T_07437_row5_col4, #T_07437_row9_col8 {\n",
       "  background-color: #d1d2e6;\n",
       "  color: #000000;\n",
       "}\n",
       "#T_07437_row5_col6 {\n",
       "  background-color: #b0c2de;\n",
       "  color: #000000;\n",
       "}\n",
       "#T_07437_row5_col8, #T_07437_row8_col11, #T_07437_row9_col14 {\n",
       "  background-color: #d2d2e7;\n",
       "  color: #000000;\n",
       "}\n",
       "#T_07437_row5_col12, #T_07437_row6_col8, #T_07437_row14_col11 {\n",
       "  background-color: #9cb9d9;\n",
       "  color: #000000;\n",
       "}\n",
       "#T_07437_row6_col0, #T_07437_row8_col7 {\n",
       "  background-color: #dcdaeb;\n",
       "  color: #000000;\n",
       "}\n",
       "#T_07437_row6_col3, #T_07437_row9_col3, #T_07437_row10_col3, #T_07437_row15_col4 {\n",
       "  background-color: #e3e0ee;\n",
       "  color: #000000;\n",
       "}\n",
       "#T_07437_row6_col4, #T_07437_row7_col4 {\n",
       "  background-color: #c6cce3;\n",
       "  color: #000000;\n",
       "}\n",
       "#T_07437_row6_col5, #T_07437_row12_col0, #T_07437_row13_col10, #T_07437_row14_col10, #T_07437_row16_col4 {\n",
       "  background-color: #d9d8ea;\n",
       "  color: #000000;\n",
       "}\n",
       "#T_07437_row6_col9, #T_07437_row7_col9 {\n",
       "  background-color: #faf3f9;\n",
       "  color: #000000;\n",
       "}\n",
       "#T_07437_row6_col10, #T_07437_row7_col11 {\n",
       "  background-color: #a4bcda;\n",
       "  color: #000000;\n",
       "}\n",
       "#T_07437_row7_col2, #T_07437_row9_col15, #T_07437_row11_col4, #T_07437_row15_col7 {\n",
       "  background-color: #f0eaf4;\n",
       "  color: #000000;\n",
       "}\n",
       "#T_07437_row7_col6, #T_07437_row12_col16, #T_07437_row13_col3 {\n",
       "  background-color: #d8d7e9;\n",
       "  color: #000000;\n",
       "}\n",
       "#T_07437_row7_col10 {\n",
       "  background-color: #b4c4df;\n",
       "  color: #000000;\n",
       "}\n",
       "#T_07437_row8_col1 {\n",
       "  background-color: #0771b1;\n",
       "  color: #f1f1f1;\n",
       "}\n",
       "#T_07437_row8_col6 {\n",
       "  background-color: #91b5d6;\n",
       "  color: #000000;\n",
       "}\n",
       "#T_07437_row8_col10 {\n",
       "  background-color: #045687;\n",
       "  color: #f1f1f1;\n",
       "}\n",
       "#T_07437_row8_col14, #T_07437_row9_col4, #T_07437_row13_col7 {\n",
       "  background-color: #ece7f2;\n",
       "  color: #000000;\n",
       "}\n",
       "#T_07437_row8_col16, #T_07437_row11_col14 {\n",
       "  background-color: #a9bfdc;\n",
       "  color: #000000;\n",
       "}\n",
       "#T_07437_row9_col11, #T_07437_row12_col5, #T_07437_row16_col12 {\n",
       "  background-color: #c1cae2;\n",
       "  color: #000000;\n",
       "}\n",
       "#T_07437_row9_col16, #T_07437_row16_col14 {\n",
       "  background-color: #e0dded;\n",
       "  color: #000000;\n",
       "}\n",
       "#T_07437_row10_col1 {\n",
       "  background-color: #1b7eb7;\n",
       "  color: #f1f1f1;\n",
       "}\n",
       "#T_07437_row10_col2, #T_07437_row14_col4, #T_07437_row15_col5 {\n",
       "  background-color: #ebe6f2;\n",
       "  color: #000000;\n",
       "}\n",
       "#T_07437_row10_col6 {\n",
       "  background-color: #9ebad9;\n",
       "  color: #000000;\n",
       "}\n",
       "#T_07437_row10_col8 {\n",
       "  background-color: #045788;\n",
       "  color: #f1f1f1;\n",
       "}\n",
       "#T_07437_row10_col11, #T_07437_row11_col2 {\n",
       "  background-color: #ced0e6;\n",
       "  color: #000000;\n",
       "}\n",
       "#T_07437_row12_col2, #T_07437_row13_col1, #T_07437_row13_col15, #T_07437_row14_col13 {\n",
       "  background-color: #eee9f3;\n",
       "  color: #000000;\n",
       "}\n",
       "#T_07437_row12_col3, #T_07437_row14_col5 {\n",
       "  background-color: #f9f2f8;\n",
       "  color: #000000;\n",
       "}\n",
       "#T_07437_row14_col1 {\n",
       "  background-color: #adc1dd;\n",
       "  color: #000000;\n",
       "}\n",
       "#T_07437_row15_col0, #T_07437_row15_col3 {\n",
       "  background-color: #dbdaeb;\n",
       "  color: #000000;\n",
       "}\n",
       "#T_07437_row15_col8 {\n",
       "  background-color: #e4e1ef;\n",
       "  color: #000000;\n",
       "}\n",
       "#T_07437_row15_col12 {\n",
       "  background-color: #b5c4df;\n",
       "  color: #000000;\n",
       "}\n",
       "#T_07437_row16_col2, #T_07437_row16_col8 {\n",
       "  background-color: #96b6d7;\n",
       "  color: #000000;\n",
       "}\n",
       "#T_07437_row16_col3 {\n",
       "  background-color: #fbf3f9;\n",
       "  color: #000000;\n",
       "}\n",
       "#T_07437_row16_col6 {\n",
       "  background-color: #c8cde4;\n",
       "  color: #000000;\n",
       "}\n",
       "#T_07437_row16_col13 {\n",
       "  background-color: #f4eef6;\n",
       "  color: #000000;\n",
       "}\n",
       "</style>\n",
       "<table id=\"T_07437\">\n",
       "  <thead>\n",
       "    <tr>\n",
       "      <th class=\"blank level0\" >&nbsp;</th>\n",
       "      <th id=\"T_07437_level0_col0\" class=\"col_heading level0 col0\" >Price</th>\n",
       "      <th id=\"T_07437_level0_col1\" class=\"col_heading level0 col1\" >Levy</th>\n",
       "      <th id=\"T_07437_level0_col2\" class=\"col_heading level0 col2\" >Manufacturer</th>\n",
       "      <th id=\"T_07437_level0_col3\" class=\"col_heading level0 col3\" >Model</th>\n",
       "      <th id=\"T_07437_level0_col4\" class=\"col_heading level0 col4\" >Prod. year</th>\n",
       "      <th id=\"T_07437_level0_col5\" class=\"col_heading level0 col5\" >Category</th>\n",
       "      <th id=\"T_07437_level0_col6\" class=\"col_heading level0 col6\" >Leather interior</th>\n",
       "      <th id=\"T_07437_level0_col7\" class=\"col_heading level0 col7\" >Fuel type</th>\n",
       "      <th id=\"T_07437_level0_col8\" class=\"col_heading level0 col8\" >Engine volume</th>\n",
       "      <th id=\"T_07437_level0_col9\" class=\"col_heading level0 col9\" >Mileage</th>\n",
       "      <th id=\"T_07437_level0_col10\" class=\"col_heading level0 col10\" >Cylinders</th>\n",
       "      <th id=\"T_07437_level0_col11\" class=\"col_heading level0 col11\" >Gear box type</th>\n",
       "      <th id=\"T_07437_level0_col12\" class=\"col_heading level0 col12\" >Drive wheels</th>\n",
       "      <th id=\"T_07437_level0_col13\" class=\"col_heading level0 col13\" >Doors</th>\n",
       "      <th id=\"T_07437_level0_col14\" class=\"col_heading level0 col14\" >Wheel</th>\n",
       "      <th id=\"T_07437_level0_col15\" class=\"col_heading level0 col15\" >Color</th>\n",
       "      <th id=\"T_07437_level0_col16\" class=\"col_heading level0 col16\" >Airbags</th>\n",
       "    </tr>\n",
       "  </thead>\n",
       "  <tbody>\n",
       "    <tr>\n",
       "      <th id=\"T_07437_level0_row0\" class=\"row_heading level0 row0\" >Price</th>\n",
       "      <td id=\"T_07437_row0_col0\" class=\"data row0 col0\" >1.000000</td>\n",
       "      <td id=\"T_07437_row0_col1\" class=\"data row0 col1\" >0.058520</td>\n",
       "      <td id=\"T_07437_row0_col2\" class=\"data row0 col2\" >-0.064586</td>\n",
       "      <td id=\"T_07437_row0_col3\" class=\"data row0 col3\" >0.096964</td>\n",
       "      <td id=\"T_07437_row0_col4\" class=\"data row0 col4\" >0.325283</td>\n",
       "      <td id=\"T_07437_row0_col5\" class=\"data row0 col5\" >-0.122119</td>\n",
       "      <td id=\"T_07437_row0_col6\" class=\"data row0 col6\" >0.013248</td>\n",
       "      <td id=\"T_07437_row0_col7\" class=\"data row0 col7\" >-0.086152</td>\n",
       "      <td id=\"T_07437_row0_col8\" class=\"data row0 col8\" >0.009806</td>\n",
       "      <td id=\"T_07437_row0_col9\" class=\"data row0 col9\" >-0.010343</td>\n",
       "      <td id=\"T_07437_row0_col10\" class=\"data row0 col10\" >-0.042980</td>\n",
       "      <td id=\"T_07437_row0_col11\" class=\"data row0 col11\" >0.088311</td>\n",
       "      <td id=\"T_07437_row0_col12\" class=\"data row0 col12\" >0.027613</td>\n",
       "      <td id=\"T_07437_row0_col13\" class=\"data row0 col13\" >0.024457</td>\n",
       "      <td id=\"T_07437_row0_col14\" class=\"data row0 col14\" >-0.055380</td>\n",
       "      <td id=\"T_07437_row0_col15\" class=\"data row0 col15\" >0.016446</td>\n",
       "      <td id=\"T_07437_row0_col16\" class=\"data row0 col16\" >-0.229044</td>\n",
       "    </tr>\n",
       "    <tr>\n",
       "      <th id=\"T_07437_level0_row1\" class=\"row_heading level0 row1\" >Levy</th>\n",
       "      <td id=\"T_07437_row1_col0\" class=\"data row1 col0\" >0.058520</td>\n",
       "      <td id=\"T_07437_row1_col1\" class=\"data row1 col1\" >1.000000</td>\n",
       "      <td id=\"T_07437_row1_col2\" class=\"data row1 col2\" >0.023796</td>\n",
       "      <td id=\"T_07437_row1_col3\" class=\"data row1 col3\" >-0.006762</td>\n",
       "      <td id=\"T_07437_row1_col4\" class=\"data row1 col4\" >-0.212995</td>\n",
       "      <td id=\"T_07437_row1_col5\" class=\"data row1 col5\" >-0.062406</td>\n",
       "      <td id=\"T_07437_row1_col6\" class=\"data row1 col6\" >0.020897</td>\n",
       "      <td id=\"T_07437_row1_col7\" class=\"data row1 col7\" >0.104786</td>\n",
       "      <td id=\"T_07437_row1_col8\" class=\"data row1 col8\" >0.690013</td>\n",
       "      <td id=\"T_07437_row1_col9\" class=\"data row1 col9\" >0.013784</td>\n",
       "      <td id=\"T_07437_row1_col10\" class=\"data row1 col10\" >0.629978</td>\n",
       "      <td id=\"T_07437_row1_col11\" class=\"data row1 col11\" >-0.003300</td>\n",
       "      <td id=\"T_07437_row1_col12\" class=\"data row1 col12\" >-0.211384</td>\n",
       "      <td id=\"T_07437_row1_col13\" class=\"data row1 col13\" >-0.078517</td>\n",
       "      <td id=\"T_07437_row1_col14\" class=\"data row1 col14\" >0.213968</td>\n",
       "      <td id=\"T_07437_row1_col15\" class=\"data row1 col15\" >-0.066494</td>\n",
       "      <td id=\"T_07437_row1_col16\" class=\"data row1 col16\" >0.102949</td>\n",
       "    </tr>\n",
       "    <tr>\n",
       "      <th id=\"T_07437_level0_row2\" class=\"row_heading level0 row2\" >Manufacturer</th>\n",
       "      <td id=\"T_07437_row2_col0\" class=\"data row2 col0\" >-0.064586</td>\n",
       "      <td id=\"T_07437_row2_col1\" class=\"data row2 col1\" >0.023796</td>\n",
       "      <td id=\"T_07437_row2_col2\" class=\"data row2 col2\" >1.000000</td>\n",
       "      <td id=\"T_07437_row2_col3\" class=\"data row2 col3\" >-0.127341</td>\n",
       "      <td id=\"T_07437_row2_col4\" class=\"data row2 col4\" >-0.023561</td>\n",
       "      <td id=\"T_07437_row2_col5\" class=\"data row2 col5\" >-0.052294</td>\n",
       "      <td id=\"T_07437_row2_col6\" class=\"data row2 col6\" >-0.156815</td>\n",
       "      <td id=\"T_07437_row2_col7\" class=\"data row2 col7\" >-0.041193</td>\n",
       "      <td id=\"T_07437_row2_col8\" class=\"data row2 col8\" >0.060921</td>\n",
       "      <td id=\"T_07437_row2_col9\" class=\"data row2 col9\" >0.006554</td>\n",
       "      <td id=\"T_07437_row2_col10\" class=\"data row2 col10\" >-0.003541</td>\n",
       "      <td id=\"T_07437_row2_col11\" class=\"data row2 col11\" >0.141327</td>\n",
       "      <td id=\"T_07437_row2_col12\" class=\"data row2 col12\" >-0.027958</td>\n",
       "      <td id=\"T_07437_row2_col13\" class=\"data row2 col13\" >0.041166</td>\n",
       "      <td id=\"T_07437_row2_col14\" class=\"data row2 col14\" >0.080481</td>\n",
       "      <td id=\"T_07437_row2_col15\" class=\"data row2 col15\" >0.008742</td>\n",
       "      <td id=\"T_07437_row2_col16\" class=\"data row2 col16\" >0.324991</td>\n",
       "    </tr>\n",
       "    <tr>\n",
       "      <th id=\"T_07437_level0_row3\" class=\"row_heading level0 row3\" >Model</th>\n",
       "      <td id=\"T_07437_row3_col0\" class=\"data row3 col0\" >0.096964</td>\n",
       "      <td id=\"T_07437_row3_col1\" class=\"data row3 col1\" >-0.006762</td>\n",
       "      <td id=\"T_07437_row3_col2\" class=\"data row3 col2\" >-0.127341</td>\n",
       "      <td id=\"T_07437_row3_col3\" class=\"data row3 col3\" >1.000000</td>\n",
       "      <td id=\"T_07437_row3_col4\" class=\"data row3 col4\" >0.001291</td>\n",
       "      <td id=\"T_07437_row3_col5\" class=\"data row3 col5\" >-0.165873</td>\n",
       "      <td id=\"T_07437_row3_col6\" class=\"data row3 col6\" >0.014247</td>\n",
       "      <td id=\"T_07437_row3_col7\" class=\"data row3 col7\" >-0.180794</td>\n",
       "      <td id=\"T_07437_row3_col8\" class=\"data row3 col8\" >0.021876</td>\n",
       "      <td id=\"T_07437_row3_col9\" class=\"data row3 col9\" >0.015264</td>\n",
       "      <td id=\"T_07437_row3_col10\" class=\"data row3 col10\" >0.016890</td>\n",
       "      <td id=\"T_07437_row3_col11\" class=\"data row3 col11\" >-0.041020</td>\n",
       "      <td id=\"T_07437_row3_col12\" class=\"data row3 col12\" >-0.130153</td>\n",
       "      <td id=\"T_07437_row3_col13\" class=\"data row3 col13\" >0.072896</td>\n",
       "      <td id=\"T_07437_row3_col14\" class=\"data row3 col14\" >-0.073563</td>\n",
       "      <td id=\"T_07437_row3_col15\" class=\"data row3 col15\" >0.055142</td>\n",
       "      <td id=\"T_07437_row3_col16\" class=\"data row3 col16\" >-0.148470</td>\n",
       "    </tr>\n",
       "    <tr>\n",
       "      <th id=\"T_07437_level0_row4\" class=\"row_heading level0 row4\" >Prod. year</th>\n",
       "      <td id=\"T_07437_row4_col0\" class=\"data row4 col0\" >0.325283</td>\n",
       "      <td id=\"T_07437_row4_col1\" class=\"data row4 col1\" >-0.212995</td>\n",
       "      <td id=\"T_07437_row4_col2\" class=\"data row4 col2\" >-0.023561</td>\n",
       "      <td id=\"T_07437_row4_col3\" class=\"data row4 col3\" >0.001291</td>\n",
       "      <td id=\"T_07437_row4_col4\" class=\"data row4 col4\" >1.000000</td>\n",
       "      <td id=\"T_07437_row4_col5\" class=\"data row4 col5\" >0.089728</td>\n",
       "      <td id=\"T_07437_row4_col6\" class=\"data row4 col6\" >0.126332</td>\n",
       "      <td id=\"T_07437_row4_col7\" class=\"data row4 col7\" >0.128075</td>\n",
       "      <td id=\"T_07437_row4_col8\" class=\"data row4 col8\" >-0.106260</td>\n",
       "      <td id=\"T_07437_row4_col9\" class=\"data row4 col9\" >-0.057627</td>\n",
       "      <td id=\"T_07437_row4_col10\" class=\"data row4 col10\" >-0.153116</td>\n",
       "      <td id=\"T_07437_row4_col11\" class=\"data row4 col11\" >-0.086505</td>\n",
       "      <td id=\"T_07437_row4_col12\" class=\"data row4 col12\" >0.053527</td>\n",
       "      <td id=\"T_07437_row4_col13\" class=\"data row4 col13\" >0.064748</td>\n",
       "      <td id=\"T_07437_row4_col14\" class=\"data row4 col14\" >-0.054340</td>\n",
       "      <td id=\"T_07437_row4_col15\" class=\"data row4 col15\" >-0.011294</td>\n",
       "      <td id=\"T_07437_row4_col16\" class=\"data row4 col16\" >0.043728</td>\n",
       "    </tr>\n",
       "    <tr>\n",
       "      <th id=\"T_07437_level0_row5\" class=\"row_heading level0 row5\" >Category</th>\n",
       "      <td id=\"T_07437_row5_col0\" class=\"data row5 col0\" >-0.122119</td>\n",
       "      <td id=\"T_07437_row5_col1\" class=\"data row5 col1\" >-0.062406</td>\n",
       "      <td id=\"T_07437_row5_col2\" class=\"data row5 col2\" >-0.052294</td>\n",
       "      <td id=\"T_07437_row5_col3\" class=\"data row5 col3\" >-0.165873</td>\n",
       "      <td id=\"T_07437_row5_col4\" class=\"data row5 col4\" >0.089728</td>\n",
       "      <td id=\"T_07437_row5_col5\" class=\"data row5 col5\" >1.000000</td>\n",
       "      <td id=\"T_07437_row5_col6\" class=\"data row5 col6\" >0.080022</td>\n",
       "      <td id=\"T_07437_row5_col7\" class=\"data row5 col7\" >0.151389</td>\n",
       "      <td id=\"T_07437_row5_col8\" class=\"data row5 col8\" >-0.009069</td>\n",
       "      <td id=\"T_07437_row5_col9\" class=\"data row5 col9\" >0.009283</td>\n",
       "      <td id=\"T_07437_row5_col10\" class=\"data row5 col10\" >-0.105678</td>\n",
       "      <td id=\"T_07437_row5_col11\" class=\"data row5 col11\" >0.002510</td>\n",
       "      <td id=\"T_07437_row5_col12\" class=\"data row5 col12\" >0.176644</td>\n",
       "      <td id=\"T_07437_row5_col13\" class=\"data row5 col13\" >0.188300</td>\n",
       "      <td id=\"T_07437_row5_col14\" class=\"data row5 col14\" >-0.116389</td>\n",
       "      <td id=\"T_07437_row5_col15\" class=\"data row5 col15\" >-0.012301</td>\n",
       "      <td id=\"T_07437_row5_col16\" class=\"data row5 col16\" >0.143166</td>\n",
       "    </tr>\n",
       "    <tr>\n",
       "      <th id=\"T_07437_level0_row6\" class=\"row_heading level0 row6\" >Leather interior</th>\n",
       "      <td id=\"T_07437_row6_col0\" class=\"data row6 col0\" >0.013248</td>\n",
       "      <td id=\"T_07437_row6_col1\" class=\"data row6 col1\" >0.020897</td>\n",
       "      <td id=\"T_07437_row6_col2\" class=\"data row6 col2\" >-0.156815</td>\n",
       "      <td id=\"T_07437_row6_col3\" class=\"data row6 col3\" >0.014247</td>\n",
       "      <td id=\"T_07437_row6_col4\" class=\"data row6 col4\" >0.126332</td>\n",
       "      <td id=\"T_07437_row6_col5\" class=\"data row6 col5\" >0.080022</td>\n",
       "      <td id=\"T_07437_row6_col6\" class=\"data row6 col6\" >1.000000</td>\n",
       "      <td id=\"T_07437_row6_col7\" class=\"data row6 col7\" >-0.102212</td>\n",
       "      <td id=\"T_07437_row6_col8\" class=\"data row6 col8\" >0.198130</td>\n",
       "      <td id=\"T_07437_row6_col9\" class=\"data row6 col9\" >-0.022401</td>\n",
       "      <td id=\"T_07437_row6_col10\" class=\"data row6 col10\" >0.152162</td>\n",
       "      <td id=\"T_07437_row6_col11\" class=\"data row6 col11\" >-0.405091</td>\n",
       "      <td id=\"T_07437_row6_col12\" class=\"data row6 col12\" >-0.041486</td>\n",
       "      <td id=\"T_07437_row6_col13\" class=\"data row6 col13\" >0.031157</td>\n",
       "      <td id=\"T_07437_row6_col14\" class=\"data row6 col14\" >-0.326752</td>\n",
       "      <td id=\"T_07437_row6_col15\" class=\"data row6 col15\" >-0.024239</td>\n",
       "      <td id=\"T_07437_row6_col16\" class=\"data row6 col16\" >-0.016399</td>\n",
       "    </tr>\n",
       "    <tr>\n",
       "      <th id=\"T_07437_level0_row7\" class=\"row_heading level0 row7\" >Fuel type</th>\n",
       "      <td id=\"T_07437_row7_col0\" class=\"data row7 col0\" >-0.086152</td>\n",
       "      <td id=\"T_07437_row7_col1\" class=\"data row7 col1\" >0.104786</td>\n",
       "      <td id=\"T_07437_row7_col2\" class=\"data row7 col2\" >-0.041193</td>\n",
       "      <td id=\"T_07437_row7_col3\" class=\"data row7 col3\" >-0.180794</td>\n",
       "      <td id=\"T_07437_row7_col4\" class=\"data row7 col4\" >0.128075</td>\n",
       "      <td id=\"T_07437_row7_col5\" class=\"data row7 col5\" >0.151389</td>\n",
       "      <td id=\"T_07437_row7_col6\" class=\"data row7 col6\" >-0.102212</td>\n",
       "      <td id=\"T_07437_row7_col7\" class=\"data row7 col7\" >1.000000</td>\n",
       "      <td id=\"T_07437_row7_col8\" class=\"data row7 col8\" >0.052148</td>\n",
       "      <td id=\"T_07437_row7_col9\" class=\"data row7 col9\" >-0.020808</td>\n",
       "      <td id=\"T_07437_row7_col10\" class=\"data row7 col10\" >0.084868</td>\n",
       "      <td id=\"T_07437_row7_col11\" class=\"data row7 col11\" >0.130399</td>\n",
       "      <td id=\"T_07437_row7_col12\" class=\"data row7 col12\" >-0.046069</td>\n",
       "      <td id=\"T_07437_row7_col13\" class=\"data row7 col13\" >-0.029903</td>\n",
       "      <td id=\"T_07437_row7_col14\" class=\"data row7 col14\" >0.008170</td>\n",
       "      <td id=\"T_07437_row7_col15\" class=\"data row7 col15\" >-0.062702</td>\n",
       "      <td id=\"T_07437_row7_col16\" class=\"data row7 col16\" >0.097340</td>\n",
       "    </tr>\n",
       "    <tr>\n",
       "      <th id=\"T_07437_level0_row8\" class=\"row_heading level0 row8\" >Engine volume</th>\n",
       "      <td id=\"T_07437_row8_col0\" class=\"data row8 col0\" >0.009806</td>\n",
       "      <td id=\"T_07437_row8_col1\" class=\"data row8 col1\" >0.690013</td>\n",
       "      <td id=\"T_07437_row8_col2\" class=\"data row8 col2\" >0.060921</td>\n",
       "      <td id=\"T_07437_row8_col3\" class=\"data row8 col3\" >0.021876</td>\n",
       "      <td id=\"T_07437_row8_col4\" class=\"data row8 col4\" >-0.106260</td>\n",
       "      <td id=\"T_07437_row8_col5\" class=\"data row8 col5\" >-0.009069</td>\n",
       "      <td id=\"T_07437_row8_col6\" class=\"data row8 col6\" >0.198130</td>\n",
       "      <td id=\"T_07437_row8_col7\" class=\"data row8 col7\" >0.052148</td>\n",
       "      <td id=\"T_07437_row8_col8\" class=\"data row8 col8\" >1.000000</td>\n",
       "      <td id=\"T_07437_row8_col9\" class=\"data row8 col9\" >-0.003794</td>\n",
       "      <td id=\"T_07437_row8_col10\" class=\"data row8 col10\" >0.846777</td>\n",
       "      <td id=\"T_07437_row8_col11\" class=\"data row8 col11\" >-0.064611</td>\n",
       "      <td id=\"T_07437_row8_col12\" class=\"data row8 col12\" >-0.336715</td>\n",
       "      <td id=\"T_07437_row8_col13\" class=\"data row8 col13\" >-0.061290</td>\n",
       "      <td id=\"T_07437_row8_col14\" class=\"data row8 col14\" >-0.156312</td>\n",
       "      <td id=\"T_07437_row8_col15\" class=\"data row8 col15\" >-0.118434</td>\n",
       "      <td id=\"T_07437_row8_col16\" class=\"data row8 col16\" >0.219195</td>\n",
       "    </tr>\n",
       "    <tr>\n",
       "      <th id=\"T_07437_level0_row9\" class=\"row_heading level0 row9\" >Mileage</th>\n",
       "      <td id=\"T_07437_row9_col0\" class=\"data row9 col0\" >-0.010343</td>\n",
       "      <td id=\"T_07437_row9_col1\" class=\"data row9 col1\" >0.013784</td>\n",
       "      <td id=\"T_07437_row9_col2\" class=\"data row9 col2\" >0.006554</td>\n",
       "      <td id=\"T_07437_row9_col3\" class=\"data row9 col3\" >0.015264</td>\n",
       "      <td id=\"T_07437_row9_col4\" class=\"data row9 col4\" >-0.057627</td>\n",
       "      <td id=\"T_07437_row9_col5\" class=\"data row9 col5\" >0.009283</td>\n",
       "      <td id=\"T_07437_row9_col6\" class=\"data row9 col6\" >-0.022401</td>\n",
       "      <td id=\"T_07437_row9_col7\" class=\"data row9 col7\" >-0.020808</td>\n",
       "      <td id=\"T_07437_row9_col8\" class=\"data row9 col8\" >-0.003794</td>\n",
       "      <td id=\"T_07437_row9_col9\" class=\"data row9 col9\" >1.000000</td>\n",
       "      <td id=\"T_07437_row9_col10\" class=\"data row9 col10\" >-0.002461</td>\n",
       "      <td id=\"T_07437_row9_col11\" class=\"data row9 col11\" >0.009042</td>\n",
       "      <td id=\"T_07437_row9_col12\" class=\"data row9 col12\" >0.001252</td>\n",
       "      <td id=\"T_07437_row9_col13\" class=\"data row9 col13\" >0.000951</td>\n",
       "      <td id=\"T_07437_row9_col14\" class=\"data row9 col14\" >-0.002058</td>\n",
       "      <td id=\"T_07437_row9_col15\" class=\"data row9 col15\" >-0.002914</td>\n",
       "      <td id=\"T_07437_row9_col16\" class=\"data row9 col16\" >-0.005489</td>\n",
       "    </tr>\n",
       "    <tr>\n",
       "      <th id=\"T_07437_level0_row10\" class=\"row_heading level0 row10\" >Cylinders</th>\n",
       "      <td id=\"T_07437_row10_col0\" class=\"data row10 col0\" >-0.042980</td>\n",
       "      <td id=\"T_07437_row10_col1\" class=\"data row10 col1\" >0.629978</td>\n",
       "      <td id=\"T_07437_row10_col2\" class=\"data row10 col2\" >-0.003541</td>\n",
       "      <td id=\"T_07437_row10_col3\" class=\"data row10 col3\" >0.016890</td>\n",
       "      <td id=\"T_07437_row10_col4\" class=\"data row10 col4\" >-0.153116</td>\n",
       "      <td id=\"T_07437_row10_col5\" class=\"data row10 col5\" >-0.105678</td>\n",
       "      <td id=\"T_07437_row10_col6\" class=\"data row10 col6\" >0.152162</td>\n",
       "      <td id=\"T_07437_row10_col7\" class=\"data row10 col7\" >0.084868</td>\n",
       "      <td id=\"T_07437_row10_col8\" class=\"data row10 col8\" >0.846777</td>\n",
       "      <td id=\"T_07437_row10_col9\" class=\"data row10 col9\" >-0.002461</td>\n",
       "      <td id=\"T_07437_row10_col10\" class=\"data row10 col10\" >1.000000</td>\n",
       "      <td id=\"T_07437_row10_col11\" class=\"data row10 col11\" >-0.044828</td>\n",
       "      <td id=\"T_07437_row10_col12\" class=\"data row10 col12\" >-0.371309</td>\n",
       "      <td id=\"T_07437_row10_col13\" class=\"data row10 col13\" >-0.080009</td>\n",
       "      <td id=\"T_07437_row10_col14\" class=\"data row10 col14\" >-0.081187</td>\n",
       "      <td id=\"T_07437_row10_col15\" class=\"data row10 col15\" >-0.118565</td>\n",
       "      <td id=\"T_07437_row10_col16\" class=\"data row10 col16\" >0.147027</td>\n",
       "    </tr>\n",
       "    <tr>\n",
       "      <th id=\"T_07437_level0_row11\" class=\"row_heading level0 row11\" >Gear box type</th>\n",
       "      <td id=\"T_07437_row11_col0\" class=\"data row11 col0\" >0.088311</td>\n",
       "      <td id=\"T_07437_row11_col1\" class=\"data row11 col1\" >-0.003300</td>\n",
       "      <td id=\"T_07437_row11_col2\" class=\"data row11 col2\" >0.141327</td>\n",
       "      <td id=\"T_07437_row11_col3\" class=\"data row11 col3\" >-0.041020</td>\n",
       "      <td id=\"T_07437_row11_col4\" class=\"data row11 col4\" >-0.086505</td>\n",
       "      <td id=\"T_07437_row11_col5\" class=\"data row11 col5\" >0.002510</td>\n",
       "      <td id=\"T_07437_row11_col6\" class=\"data row11 col6\" >-0.405091</td>\n",
       "      <td id=\"T_07437_row11_col7\" class=\"data row11 col7\" >0.130399</td>\n",
       "      <td id=\"T_07437_row11_col8\" class=\"data row11 col8\" >-0.064611</td>\n",
       "      <td id=\"T_07437_row11_col9\" class=\"data row11 col9\" >0.009042</td>\n",
       "      <td id=\"T_07437_row11_col10\" class=\"data row11 col10\" >-0.044828</td>\n",
       "      <td id=\"T_07437_row11_col11\" class=\"data row11 col11\" >1.000000</td>\n",
       "      <td id=\"T_07437_row11_col12\" class=\"data row11 col12\" >0.025477</td>\n",
       "      <td id=\"T_07437_row11_col13\" class=\"data row11 col13\" >-0.026440</td>\n",
       "      <td id=\"T_07437_row11_col14\" class=\"data row11 col14\" >0.155935</td>\n",
       "      <td id=\"T_07437_row11_col15\" class=\"data row11 col15\" >-0.024282</td>\n",
       "      <td id=\"T_07437_row11_col16\" class=\"data row11 col16\" >0.142729</td>\n",
       "    </tr>\n",
       "    <tr>\n",
       "      <th id=\"T_07437_level0_row12\" class=\"row_heading level0 row12\" >Drive wheels</th>\n",
       "      <td id=\"T_07437_row12_col0\" class=\"data row12 col0\" >0.027613</td>\n",
       "      <td id=\"T_07437_row12_col1\" class=\"data row12 col1\" >-0.211384</td>\n",
       "      <td id=\"T_07437_row12_col2\" class=\"data row12 col2\" >-0.027958</td>\n",
       "      <td id=\"T_07437_row12_col3\" class=\"data row12 col3\" >-0.130153</td>\n",
       "      <td id=\"T_07437_row12_col4\" class=\"data row12 col4\" >0.053527</td>\n",
       "      <td id=\"T_07437_row12_col5\" class=\"data row12 col5\" >0.176644</td>\n",
       "      <td id=\"T_07437_row12_col6\" class=\"data row12 col6\" >-0.041486</td>\n",
       "      <td id=\"T_07437_row12_col7\" class=\"data row12 col7\" >-0.046069</td>\n",
       "      <td id=\"T_07437_row12_col8\" class=\"data row12 col8\" >-0.336715</td>\n",
       "      <td id=\"T_07437_row12_col9\" class=\"data row12 col9\" >0.001252</td>\n",
       "      <td id=\"T_07437_row12_col10\" class=\"data row12 col10\" >-0.371309</td>\n",
       "      <td id=\"T_07437_row12_col11\" class=\"data row12 col11\" >0.025477</td>\n",
       "      <td id=\"T_07437_row12_col12\" class=\"data row12 col12\" >1.000000</td>\n",
       "      <td id=\"T_07437_row12_col13\" class=\"data row12 col13\" >-0.136601</td>\n",
       "      <td id=\"T_07437_row12_col14\" class=\"data row12 col14\" >0.025354</td>\n",
       "      <td id=\"T_07437_row12_col15\" class=\"data row12 col15\" >0.078964</td>\n",
       "      <td id=\"T_07437_row12_col16\" class=\"data row12 col16\" >0.035486</td>\n",
       "    </tr>\n",
       "    <tr>\n",
       "      <th id=\"T_07437_level0_row13\" class=\"row_heading level0 row13\" >Doors</th>\n",
       "      <td id=\"T_07437_row13_col0\" class=\"data row13 col0\" >0.024457</td>\n",
       "      <td id=\"T_07437_row13_col1\" class=\"data row13 col1\" >-0.078517</td>\n",
       "      <td id=\"T_07437_row13_col2\" class=\"data row13 col2\" >0.041166</td>\n",
       "      <td id=\"T_07437_row13_col3\" class=\"data row13 col3\" >0.072896</td>\n",
       "      <td id=\"T_07437_row13_col4\" class=\"data row13 col4\" >0.064748</td>\n",
       "      <td id=\"T_07437_row13_col5\" class=\"data row13 col5\" >0.188300</td>\n",
       "      <td id=\"T_07437_row13_col6\" class=\"data row13 col6\" >0.031157</td>\n",
       "      <td id=\"T_07437_row13_col7\" class=\"data row13 col7\" >-0.029903</td>\n",
       "      <td id=\"T_07437_row13_col8\" class=\"data row13 col8\" >-0.061290</td>\n",
       "      <td id=\"T_07437_row13_col9\" class=\"data row13 col9\" >0.000951</td>\n",
       "      <td id=\"T_07437_row13_col10\" class=\"data row13 col10\" >-0.080009</td>\n",
       "      <td id=\"T_07437_row13_col11\" class=\"data row13 col11\" >-0.026440</td>\n",
       "      <td id=\"T_07437_row13_col12\" class=\"data row13 col12\" >-0.136601</td>\n",
       "      <td id=\"T_07437_row13_col13\" class=\"data row13 col13\" >1.000000</td>\n",
       "      <td id=\"T_07437_row13_col14\" class=\"data row13 col14\" >-0.011192</td>\n",
       "      <td id=\"T_07437_row13_col15\" class=\"data row13 col15\" >0.004235</td>\n",
       "      <td id=\"T_07437_row13_col16\" class=\"data row13 col16\" >-0.052347</td>\n",
       "    </tr>\n",
       "    <tr>\n",
       "      <th id=\"T_07437_level0_row14\" class=\"row_heading level0 row14\" >Wheel</th>\n",
       "      <td id=\"T_07437_row14_col0\" class=\"data row14 col0\" >-0.055380</td>\n",
       "      <td id=\"T_07437_row14_col1\" class=\"data row14 col1\" >0.213968</td>\n",
       "      <td id=\"T_07437_row14_col2\" class=\"data row14 col2\" >0.080481</td>\n",
       "      <td id=\"T_07437_row14_col3\" class=\"data row14 col3\" >-0.073563</td>\n",
       "      <td id=\"T_07437_row14_col4\" class=\"data row14 col4\" >-0.054340</td>\n",
       "      <td id=\"T_07437_row14_col5\" class=\"data row14 col5\" >-0.116389</td>\n",
       "      <td id=\"T_07437_row14_col6\" class=\"data row14 col6\" >-0.326752</td>\n",
       "      <td id=\"T_07437_row14_col7\" class=\"data row14 col7\" >0.008170</td>\n",
       "      <td id=\"T_07437_row14_col8\" class=\"data row14 col8\" >-0.156312</td>\n",
       "      <td id=\"T_07437_row14_col9\" class=\"data row14 col9\" >-0.002058</td>\n",
       "      <td id=\"T_07437_row14_col10\" class=\"data row14 col10\" >-0.081187</td>\n",
       "      <td id=\"T_07437_row14_col11\" class=\"data row14 col11\" >0.155935</td>\n",
       "      <td id=\"T_07437_row14_col12\" class=\"data row14 col12\" >0.025354</td>\n",
       "      <td id=\"T_07437_row14_col13\" class=\"data row14 col13\" >-0.011192</td>\n",
       "      <td id=\"T_07437_row14_col14\" class=\"data row14 col14\" >1.000000</td>\n",
       "      <td id=\"T_07437_row14_col15\" class=\"data row14 col15\" >0.032512</td>\n",
       "      <td id=\"T_07437_row14_col16\" class=\"data row14 col16\" >-0.084378</td>\n",
       "    </tr>\n",
       "    <tr>\n",
       "      <th id=\"T_07437_level0_row15\" class=\"row_heading level0 row15\" >Color</th>\n",
       "      <td id=\"T_07437_row15_col0\" class=\"data row15 col0\" >0.016446</td>\n",
       "      <td id=\"T_07437_row15_col1\" class=\"data row15 col1\" >-0.066494</td>\n",
       "      <td id=\"T_07437_row15_col2\" class=\"data row15 col2\" >0.008742</td>\n",
       "      <td id=\"T_07437_row15_col3\" class=\"data row15 col3\" >0.055142</td>\n",
       "      <td id=\"T_07437_row15_col4\" class=\"data row15 col4\" >-0.011294</td>\n",
       "      <td id=\"T_07437_row15_col5\" class=\"data row15 col5\" >-0.012301</td>\n",
       "      <td id=\"T_07437_row15_col6\" class=\"data row15 col6\" >-0.024239</td>\n",
       "      <td id=\"T_07437_row15_col7\" class=\"data row15 col7\" >-0.062702</td>\n",
       "      <td id=\"T_07437_row15_col8\" class=\"data row15 col8\" >-0.118434</td>\n",
       "      <td id=\"T_07437_row15_col9\" class=\"data row15 col9\" >-0.002914</td>\n",
       "      <td id=\"T_07437_row15_col10\" class=\"data row15 col10\" >-0.118565</td>\n",
       "      <td id=\"T_07437_row15_col11\" class=\"data row15 col11\" >-0.024282</td>\n",
       "      <td id=\"T_07437_row15_col12\" class=\"data row15 col12\" >0.078964</td>\n",
       "      <td id=\"T_07437_row15_col13\" class=\"data row15 col13\" >0.004235</td>\n",
       "      <td id=\"T_07437_row15_col14\" class=\"data row15 col14\" >0.032512</td>\n",
       "      <td id=\"T_07437_row15_col15\" class=\"data row15 col15\" >1.000000</td>\n",
       "      <td id=\"T_07437_row15_col16\" class=\"data row15 col16\" >-0.065103</td>\n",
       "    </tr>\n",
       "    <tr>\n",
       "      <th id=\"T_07437_level0_row16\" class=\"row_heading level0 row16\" >Airbags</th>\n",
       "      <td id=\"T_07437_row16_col0\" class=\"data row16 col0\" >-0.229044</td>\n",
       "      <td id=\"T_07437_row16_col1\" class=\"data row16 col1\" >0.102949</td>\n",
       "      <td id=\"T_07437_row16_col2\" class=\"data row16 col2\" >0.324991</td>\n",
       "      <td id=\"T_07437_row16_col3\" class=\"data row16 col3\" >-0.148470</td>\n",
       "      <td id=\"T_07437_row16_col4\" class=\"data row16 col4\" >0.043728</td>\n",
       "      <td id=\"T_07437_row16_col5\" class=\"data row16 col5\" >0.143166</td>\n",
       "      <td id=\"T_07437_row16_col6\" class=\"data row16 col6\" >-0.016399</td>\n",
       "      <td id=\"T_07437_row16_col7\" class=\"data row16 col7\" >0.097340</td>\n",
       "      <td id=\"T_07437_row16_col8\" class=\"data row16 col8\" >0.219195</td>\n",
       "      <td id=\"T_07437_row16_col9\" class=\"data row16 col9\" >-0.005489</td>\n",
       "      <td id=\"T_07437_row16_col10\" class=\"data row16 col10\" >0.147027</td>\n",
       "      <td id=\"T_07437_row16_col11\" class=\"data row16 col11\" >0.142729</td>\n",
       "      <td id=\"T_07437_row16_col12\" class=\"data row16 col12\" >0.035486</td>\n",
       "      <td id=\"T_07437_row16_col13\" class=\"data row16 col13\" >-0.052347</td>\n",
       "      <td id=\"T_07437_row16_col14\" class=\"data row16 col14\" >-0.084378</td>\n",
       "      <td id=\"T_07437_row16_col15\" class=\"data row16 col15\" >-0.065103</td>\n",
       "      <td id=\"T_07437_row16_col16\" class=\"data row16 col16\" >1.000000</td>\n",
       "    </tr>\n",
       "  </tbody>\n",
       "</table>\n"
      ],
      "text/plain": [
       "<pandas.io.formats.style.Styler at 0x20db83e1e50>"
      ]
     },
     "execution_count": 38,
     "metadata": {},
     "output_type": "execute_result"
    }
   ],
   "source": [
    "hcorr = normalized_df.corr()\n",
    "hcorr.style.background_gradient()"
   ]
  },
  {
   "cell_type": "markdown",
   "id": "a1bca25a-6ab0-4858-90e1-6c3e2a182856",
   "metadata": {},
   "source": [
    "## We can see a correlation between Levy and Engine Volume and Cylinder. We also see a correlation between Cylinder and Engine Value"
   ]
  },
  {
   "cell_type": "markdown",
   "id": "5ff33d55-ff2b-43a8-b27c-b394cdc1d9ad",
   "metadata": {},
   "source": [
    "## The biggest correlation to Price is the Prod. year or the model year"
   ]
  },
  {
   "cell_type": "code",
   "execution_count": 39,
   "id": "dcdae1ae-d25d-4fac-9a71-c9f76a45d337",
   "metadata": {},
   "outputs": [
    {
     "name": "stdout",
     "output_type": "stream",
     "text": [
      "Data before dropping duplicated values has 12627 rows \n",
      "Data after dropping duplicated values has 9276 rows \n"
     ]
    }
   ],
   "source": [
    "print(f'Data before dropping duplicated values has {normalized_df.shape[0]} rows ') #rows-=313\n",
    "normalized_df.drop_duplicates(inplace=True)\n",
    "print(f'Data after dropping duplicated values has {normalized_df.shape[0]} rows ') #rows-=313"
   ]
  },
  {
   "cell_type": "markdown",
   "id": "038fd62b-fb14-44c7-94b8-ccffabd9058d",
   "metadata": {},
   "source": [
    "# Next Step is to split the data into training, validation, testing"
   ]
  },
  {
   "cell_type": "code",
   "execution_count": 43,
   "id": "8403774a-9d8c-40e7-bb64-8fa5e90e43f3",
   "metadata": {},
   "outputs": [
    {
     "name": "stdout",
     "output_type": "stream",
     "text": [
      "Model: Linear Regression\n",
      "Mean Squared Error: 0.72\n",
      "Mean Absolute Error: 0.61\n",
      "R-squared Score: 0.32\n",
      "--------------------------\n",
      "\n",
      "Model: Ridge Regression\n",
      "Mean Squared Error: 0.72\n",
      "Mean Absolute Error: 0.61\n",
      "R-squared Score: 0.32\n",
      "--------------------------\n",
      "\n",
      "Model: Lasso Regression\n",
      "Mean Squared Error: 0.72\n",
      "Mean Absolute Error: 0.61\n",
      "R-squared Score: 0.32\n",
      "--------------------------\n",
      "\n"
     ]
    }
   ],
   "source": [
    "from sklearn.metrics import mean_squared_error, mean_absolute_error, r2_score\n",
    "y = normalized_df['Price'] \n",
    "X = normalized_df.drop(columns=['Price'])\n",
    "\n",
    "from sklearn.model_selection import train_test_split\n",
    "\n",
    "X_train, X_test, y_train, y_test = train_test_split(X,y,test_size=.2,random_state=42)\n",
    "\n",
    "\n",
    "from sklearn.model_selection import GridSearchCV\n",
    "from sklearn.linear_model import LinearRegression, Ridge, Lasso\n",
    "\n",
    "# Define models with regularization\n",
    "models = [\n",
    "    ['Linear Regression', LinearRegression()],\n",
    "    ['Ridge Regression', Ridge()],\n",
    "    ['Lasso Regression', Lasso()]\n",
    "]\n",
    "\n",
    "# Define hyperparameter grids for Ridge and Lasso\n",
    "param_grid_ridge = {'alpha': [1e-15, 1e-10, 1e-8, 1e-4, 1e-3, 1e-2, 0.01, 0.1, 1, 10, 100]}\n",
    "param_grid_lasso = {'alpha': [1e-15, 1e-10, 1e-8, 1e-4, 1e-3, 1e-2, 0.01, 0.1, 1, 10, 100]}\n",
    "\n",
    "# Initialize GridSearchCV for Ridge and Lasso\n",
    "grid_search_ridge = GridSearchCV(Ridge(), param_grid=param_grid_ridge, scoring='neg_mean_squared_error', cv=5)\n",
    "grid_search_lasso = GridSearchCV(Lasso(), param_grid=param_grid_lasso, scoring='neg_mean_squared_error', cv=5)\n",
    "\n",
    "# List to store predictions\n",
    "predictions = []\n",
    "\n",
    "# Perform model training, hyperparameter tuning, and prediction\n",
    "for name, model in models:\n",
    "    if name == 'Ridge Regression':\n",
    "        grid_search_ridge.fit(X_train, y_train)\n",
    "        best_model = grid_search_ridge.best_estimator_\n",
    "    elif name == 'Lasso Regression':\n",
    "        grid_search_lasso.fit(X_train, y_train)\n",
    "        best_model = grid_search_lasso.best_estimator_\n",
    "    else:\n",
    "        best_model = model\n",
    "    \n",
    "    best_model.fit(X_train, y_train)\n",
    "    y_pred = best_model.predict(X_test)\n",
    "    predictions.append((name, y_pred))\n",
    "\n",
    "# Evaluate models and print results\n",
    "for name, y_pred in predictions:\n",
    "    mse = mean_squared_error(y_test, y_pred)\n",
    "    mae = mean_absolute_error(y_test, y_pred)\n",
    "    r2 = r2_score(y_test, y_pred)  # Calculate R-squared score\n",
    "\n",
    "    print('Model:', name)\n",
    "    print(f'Mean Squared Error: {mse:.2f}')\n",
    "    print(f'Mean Absolute Error: {mae:.2f}')\n",
    "    print(f'R-squared Score: {r2:.2f}')  # Print R-squared score\n",
    "    print('--------------------------\\n')\n"
   ]
  },
  {
   "cell_type": "code",
   "execution_count": 48,
   "id": "10251bf9-2317-448e-b335-b4d12baab047",
   "metadata": {},
   "outputs": [
    {
     "name": "stdout",
     "output_type": "stream",
     "text": [
      "Model: Random Forest Regressor\n",
      "Mean Squared Error: 0.30\n",
      "Mean Absolute Error: 0.30\n",
      "R-squared Score: 0.71\n",
      "--------------------------\n",
      "\n"
     ]
    }
   ],
   "source": [
    "from sklearn.ensemble import RandomForestRegressor\n",
    "\n",
    "# Instantiate the RandomForestRegressor model\n",
    "rf_regressor = RandomForestRegressor(n_estimators=100, random_state=42)\n",
    "\n",
    "# Train the model on the training data\n",
    "rf_regressor.fit(X_train, y_train)\n",
    "\n",
    "# Make predictions on the test set\n",
    "y_pred_regressor = rf_regressor.predict(X_test) \n",
    "\n",
    "mse = mean_squared_error(y_test, y_pred_regressor)\n",
    "mae = mean_absolute_error(y_test, y_pred_regressor)\n",
    "r2 = r2_score(y_test, y_pred_regressor)  # Calculate R-squared score\n",
    "\n",
    "print('Model: Random Forest Regressor')\n",
    "print(f'Mean Squared Error: {mse:.2f}')\n",
    "print(f'Mean Absolute Error: {mae:.2f}')\n",
    "print(f'R-squared Score: {r2:.2f}')  # Print R-squared score\n",
    "print('--------------------------\\n')"
   ]
  },
  {
   "cell_type": "code",
   "execution_count": null,
   "id": "4815c8ad-8fba-40f3-820b-8808c6ddf164",
   "metadata": {},
   "outputs": [],
   "source": []
  }
 ],
 "metadata": {
  "kernelspec": {
   "display_name": "Python 3 (ipykernel)",
   "language": "python",
   "name": "python3"
  },
  "language_info": {
   "codemirror_mode": {
    "name": "ipython",
    "version": 3
   },
   "file_extension": ".py",
   "mimetype": "text/x-python",
   "name": "python",
   "nbconvert_exporter": "python",
   "pygments_lexer": "ipython3",
   "version": "3.11.7"
  }
 },
 "nbformat": 4,
 "nbformat_minor": 5
}
